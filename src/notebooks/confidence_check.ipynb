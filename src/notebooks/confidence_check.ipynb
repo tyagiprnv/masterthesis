{
 "cells": [
  {
   "cell_type": "code",
   "execution_count": 1,
   "metadata": {},
   "outputs": [
    {
     "name": "stderr",
     "output_type": "stream",
     "text": [
      "/home/ptyagi/miniconda3/envs/thesis_env/lib/python3.11/site-packages/tqdm/auto.py:21: TqdmWarning: IProgress not found. Please update jupyter and ipywidgets. See https://ipywidgets.readthedocs.io/en/stable/user_install.html\n",
      "  from .autonotebook import tqdm as notebook_tqdm\n"
     ]
    }
   ],
   "source": [
    "import pandas as pd\n",
    "import numpy as np\n",
    "from transformers import pipeline\n",
    "\n",
    "import matplotlib.pyplot as plt\n",
    "import seaborn as sns\n",
    "import ast"
   ]
  },
  {
   "cell_type": "code",
   "execution_count": 2,
   "metadata": {},
   "outputs": [],
   "source": [
    "from collections import defaultdict\n",
    "import itertools"
   ]
  },
  {
   "cell_type": "code",
   "execution_count": 84,
   "metadata": {},
   "outputs": [],
   "source": [
    "annotated_df = pd.read_csv('/work/ptyagi/masterthesis/data/test/new_annotation.csv')"
   ]
  },
  {
   "cell_type": "code",
   "execution_count": 85,
   "metadata": {},
   "outputs": [
    {
     "data": {
      "text/plain": [
       "manual_label\n",
       "anger       33\n",
       "joy         16\n",
       "disgust     15\n",
       "fear        13\n",
       "sadness     12\n",
       "surprise    10\n",
       "Name: count, dtype: int64"
      ]
     },
     "execution_count": 85,
     "metadata": {},
     "output_type": "execute_result"
    }
   ],
   "source": [
    "annotated_df['manual_label'].value_counts()"
   ]
  },
  {
   "cell_type": "code",
   "execution_count": 86,
   "metadata": {},
   "outputs": [],
   "source": [
    "replies_feb_2019_en = pd.read_csv('/work/ptyagi/masterthesis/data/tmp/tweet_replies_feb_2019_en.csv')"
   ]
  },
  {
   "cell_type": "code",
   "execution_count": 87,
   "metadata": {},
   "outputs": [],
   "source": [
    "merged_df = pd.merge(annotated_df[['id','manual_label']], replies_feb_2019_en, on='id', how='left')"
   ]
  },
  {
   "cell_type": "code",
   "execution_count": 88,
   "metadata": {},
   "outputs": [
    {
     "data": {
      "text/html": [
       "<div>\n",
       "<style scoped>\n",
       "    .dataframe tbody tr th:only-of-type {\n",
       "        vertical-align: middle;\n",
       "    }\n",
       "\n",
       "    .dataframe tbody tr th {\n",
       "        vertical-align: top;\n",
       "    }\n",
       "\n",
       "    .dataframe thead th {\n",
       "        text-align: right;\n",
       "    }\n",
       "</style>\n",
       "<table border=\"1\" class=\"dataframe\">\n",
       "  <thead>\n",
       "    <tr style=\"text-align: right;\">\n",
       "      <th></th>\n",
       "      <th>id</th>\n",
       "      <th>manual_label</th>\n",
       "      <th>conversation_id</th>\n",
       "      <th>created_at</th>\n",
       "      <th>replies</th>\n",
       "      <th>tweet_text</th>\n",
       "      <th>tweet_lang</th>\n",
       "      <th>lang_confidence</th>\n",
       "    </tr>\n",
       "  </thead>\n",
       "  <tbody>\n",
       "    <tr>\n",
       "      <th>0</th>\n",
       "      <td>1097968284102733825</td>\n",
       "      <td>anger</td>\n",
       "      <td>1097912551038439430</td>\n",
       "      <td>2019-02-19 21:16:52+00:00</td>\n",
       "      <td>seriously this is bs climate change is called ...</td>\n",
       "      <td>Despite the immediate danger posed by climate ...</td>\n",
       "      <td>en</td>\n",
       "      <td>0.924149</td>\n",
       "    </tr>\n",
       "    <tr>\n",
       "      <th>1</th>\n",
       "      <td>1100028581311381506</td>\n",
       "      <td>sadness</td>\n",
       "      <td>1099918265005080578</td>\n",
       "      <td>2019-02-25 13:43:45+00:00</td>\n",
       "      <td>hello ladies and gentleman i did a poem known ...</td>\n",
       "      <td>Many thanks for the RTs[USER] [USER] [USER] [U...</td>\n",
       "      <td>en</td>\n",
       "      <td>0.812816</td>\n",
       "    </tr>\n",
       "    <tr>\n",
       "      <th>2</th>\n",
       "      <td>1098431395314192384</td>\n",
       "      <td>fear</td>\n",
       "      <td>1097987884097900544</td>\n",
       "      <td>2019-02-21 03:57:07+00:00</td>\n",
       "      <td>climate change is real and nature will respond...</td>\n",
       "      <td>It’s not a big, iconic or ‘sexy’ species and i...</td>\n",
       "      <td>en</td>\n",
       "      <td>0.967180</td>\n",
       "    </tr>\n",
       "    <tr>\n",
       "      <th>3</th>\n",
       "      <td>1100462023278821377</td>\n",
       "      <td>surprise</td>\n",
       "      <td>1100154569663733760</td>\n",
       "      <td>2019-02-26 18:26:06+00:00</td>\n",
       "      <td>i can not wait right now for the climate chang...</td>\n",
       "      <td>In new Pew Poll, climate change falls to the b...</td>\n",
       "      <td>en</td>\n",
       "      <td>0.876844</td>\n",
       "    </tr>\n",
       "    <tr>\n",
       "      <th>4</th>\n",
       "      <td>1099798892596678657</td>\n",
       "      <td>anger</td>\n",
       "      <td>1099783621609750528</td>\n",
       "      <td>2019-02-24 22:31:03+00:00</td>\n",
       "      <td>is too stupid to understand maybe if they watc...</td>\n",
       "      <td>The White House plans to assemble a group of s...</td>\n",
       "      <td>en</td>\n",
       "      <td>0.876993</td>\n",
       "    </tr>\n",
       "  </tbody>\n",
       "</table>\n",
       "</div>"
      ],
      "text/plain": [
       "                    id manual_label      conversation_id  \\\n",
       "0  1097968284102733825        anger  1097912551038439430   \n",
       "1  1100028581311381506      sadness  1099918265005080578   \n",
       "2  1098431395314192384         fear  1097987884097900544   \n",
       "3  1100462023278821377     surprise  1100154569663733760   \n",
       "4  1099798892596678657        anger  1099783621609750528   \n",
       "\n",
       "                  created_at  \\\n",
       "0  2019-02-19 21:16:52+00:00   \n",
       "1  2019-02-25 13:43:45+00:00   \n",
       "2  2019-02-21 03:57:07+00:00   \n",
       "3  2019-02-26 18:26:06+00:00   \n",
       "4  2019-02-24 22:31:03+00:00   \n",
       "\n",
       "                                             replies  \\\n",
       "0  seriously this is bs climate change is called ...   \n",
       "1  hello ladies and gentleman i did a poem known ...   \n",
       "2  climate change is real and nature will respond...   \n",
       "3  i can not wait right now for the climate chang...   \n",
       "4  is too stupid to understand maybe if they watc...   \n",
       "\n",
       "                                          tweet_text tweet_lang  \\\n",
       "0  Despite the immediate danger posed by climate ...         en   \n",
       "1  Many thanks for the RTs[USER] [USER] [USER] [U...         en   \n",
       "2  It’s not a big, iconic or ‘sexy’ species and i...         en   \n",
       "3  In new Pew Poll, climate change falls to the b...         en   \n",
       "4  The White House plans to assemble a group of s...         en   \n",
       "\n",
       "   lang_confidence  \n",
       "0         0.924149  \n",
       "1         0.812816  \n",
       "2         0.967180  \n",
       "3         0.876844  \n",
       "4         0.876993  "
      ]
     },
     "execution_count": 88,
     "metadata": {},
     "output_type": "execute_result"
    }
   ],
   "source": [
    "merged_df.head()"
   ]
  },
  {
   "cell_type": "code",
   "execution_count": 89,
   "metadata": {},
   "outputs": [],
   "source": [
    "emotion_mapping = {\n",
    "    \"anger\": \"anger\",\n",
    "    \"anticipation\": \"surprise\", \n",
    "    \"disgust\": \"disgust\",\n",
    "    \"fear\": \"fear\",\n",
    "    \"joy\": \"joy\",\n",
    "    \"love\": \"joy\",           \n",
    "    \"optimism\": \"joy\",       \n",
    "    \"pessimism\": \"fear\",     \n",
    "    \"sadness\": \"sadness\",\n",
    "    \"surprise\": \"surprise\",\n",
    "    \"trust\": \"joy\"           \n",
    "}"
   ]
  },
  {
   "cell_type": "code",
   "execution_count": 90,
   "metadata": {},
   "outputs": [],
   "source": [
    "emotion_classifier = pipeline(\"text-classification\", model=\"cardiffnlp/twitter-roberta-base-emotion-latest\", device=2)"
   ]
  },
  {
   "cell_type": "code",
   "execution_count": 91,
   "metadata": {},
   "outputs": [],
   "source": [
    "emotion_predictions = emotion_classifier(merged_df['replies'].tolist(), batch_size=8)"
   ]
  },
  {
   "cell_type": "code",
   "execution_count": 92,
   "metadata": {},
   "outputs": [
    {
     "data": {
      "text/plain": [
       "[{'label': 'anger', 'score': 0.9839533567428589},\n",
       " {'label': 'anticipation', 'score': 0.8289657831192017},\n",
       " {'label': 'optimism', 'score': 0.4852372109889984},\n",
       " {'label': 'anger', 'score': 0.9356208443641663},\n",
       " {'label': 'disgust', 'score': 0.9095050692558289}]"
      ]
     },
     "execution_count": 92,
     "metadata": {},
     "output_type": "execute_result"
    }
   ],
   "source": [
    "emotion_predictions[:5] # type: ignore"
   ]
  },
  {
   "cell_type": "code",
   "execution_count": 93,
   "metadata": {},
   "outputs": [],
   "source": [
    "merged_df['pred_roberta_base'] = [pred['label'] for pred in emotion_predictions] # type: ignore\n",
    "merged_df['confidence_roberta_base'] = [pred['score'] for pred in emotion_predictions] # type: ignore"
   ]
  },
  {
   "cell_type": "code",
   "execution_count": 94,
   "metadata": {},
   "outputs": [],
   "source": [
    "merged_df['pred_roberta_base'] = merged_df['pred_roberta_base'].map(emotion_mapping)"
   ]
  },
  {
   "cell_type": "code",
   "execution_count": 95,
   "metadata": {},
   "outputs": [],
   "source": [
    "emotion_classifier = pipeline(\"text-classification\", model=\"cardiffnlp/twitter-roberta-large-emotion-latest\", device=2)"
   ]
  },
  {
   "cell_type": "code",
   "execution_count": 96,
   "metadata": {},
   "outputs": [],
   "source": [
    "emotion_predictions = emotion_classifier(merged_df['replies'].tolist(), batch_size=8)"
   ]
  },
  {
   "cell_type": "code",
   "execution_count": 97,
   "metadata": {},
   "outputs": [
    {
     "data": {
      "text/plain": [
       "[{'label': 'disgust', 'score': 0.9929659366607666},\n",
       " {'label': 'optimism', 'score': 0.7913478016853333},\n",
       " {'label': 'optimism', 'score': 0.46346914768218994},\n",
       " {'label': 'sadness', 'score': 0.7249971628189087},\n",
       " {'label': 'disgust', 'score': 0.9782056212425232}]"
      ]
     },
     "execution_count": 97,
     "metadata": {},
     "output_type": "execute_result"
    }
   ],
   "source": [
    "emotion_predictions[:5] # type: ignore"
   ]
  },
  {
   "cell_type": "code",
   "execution_count": 98,
   "metadata": {},
   "outputs": [],
   "source": [
    "merged_df['pred_roberta_large'] = [pred['label'] for pred in emotion_predictions] # type: ignore\n",
    "merged_df['confidence_roberta_large'] = [pred['score'] for pred in emotion_predictions] # type: ignore"
   ]
  },
  {
   "cell_type": "code",
   "execution_count": 99,
   "metadata": {},
   "outputs": [],
   "source": [
    "merged_df['pred_roberta_large'] = merged_df['pred_roberta_large'].map(emotion_mapping)"
   ]
  },
  {
   "cell_type": "code",
   "execution_count": 100,
   "metadata": {},
   "outputs": [],
   "source": [
    "def data():\n",
    "    for value in merged_df['replies'].to_list():\n",
    "        yield value"
   ]
  },
  {
   "cell_type": "code",
   "execution_count": 101,
   "metadata": {},
   "outputs": [
    {
     "name": "stderr",
     "output_type": "stream",
     "text": [
      "/home/ptyagi/miniconda3/envs/thesis_env/lib/python3.11/site-packages/transformers/tokenization_utils_base.py:1601: FutureWarning: `clean_up_tokenization_spaces` was not set. It will be set to `True` by default. This behavior will be depracted in transformers v4.45, and will be then set to `False` by default. For more details check this issue: https://github.com/huggingface/transformers/issues/31884\n",
      "  warnings.warn(\n"
     ]
    }
   ],
   "source": [
    "bart_classifier = pipeline(\"zero-shot-classification\", model=\"facebook/bart-large-mnli\", device=2)"
   ]
  },
  {
   "cell_type": "code",
   "execution_count": 102,
   "metadata": {},
   "outputs": [],
   "source": [
    "classification_results = []\n",
    "for text in data():\n",
    "    result = bart_classifier(\n",
    "    text,\n",
    "    candidate_labels = [\"anger\", \"disgust\", \"fear\", \"joy\", \"sadness\", \"surprise\"])\n",
    "    classification_results.append(result)\n"
   ]
  },
  {
   "cell_type": "code",
   "execution_count": 103,
   "metadata": {},
   "outputs": [
    {
     "data": {
      "text/plain": [
       "{'sequence': 'i can not wait right now for the climate change to does not feel warm out people oh wait it has to get cold before it gets hot',\n",
       " 'labels': ['surprise', 'anger', 'joy', 'fear', 'disgust', 'sadness'],\n",
       " 'scores': [0.35057732462882996,\n",
       "  0.25067138671875,\n",
       "  0.23708945512771606,\n",
       "  0.10718908160924911,\n",
       "  0.04285239055752754,\n",
       "  0.011620339006185532]}"
      ]
     },
     "execution_count": 103,
     "metadata": {},
     "output_type": "execute_result"
    }
   ],
   "source": [
    "classification_results[3]"
   ]
  },
  {
   "cell_type": "code",
   "execution_count": 104,
   "metadata": {},
   "outputs": [],
   "source": [
    "merged_df['pred_bart'] = [x['labels'][0] for x in classification_results]\n",
    "merged_df['confidence_bart'] = [x['scores'][0] for x in classification_results]"
   ]
  },
  {
   "cell_type": "code",
   "execution_count": 105,
   "metadata": {},
   "outputs": [
    {
     "name": "stderr",
     "output_type": "stream",
     "text": [
      "/home/ptyagi/miniconda3/envs/thesis_env/lib/python3.11/site-packages/transformers/tokenization_utils_base.py:1601: FutureWarning: `clean_up_tokenization_spaces` was not set. It will be set to `True` by default. This behavior will be depracted in transformers v4.45, and will be then set to `False` by default. For more details check this issue: https://github.com/huggingface/transformers/issues/31884\n",
      "  warnings.warn(\n"
     ]
    }
   ],
   "source": [
    "\n",
    "deberta_classifier = pipeline(\"zero-shot-classification\", model=\"MoritzLaurer/mDeBERTa-v3-base-xnli-multilingual-nli-2mil7\", device=2)\n"
   ]
  },
  {
   "cell_type": "code",
   "execution_count": 106,
   "metadata": {},
   "outputs": [],
   "source": [
    "classification_results = []\n",
    "for text in data():\n",
    "    result = deberta_classifier(\n",
    "    text,\n",
    "    candidate_labels = [\"anger\", \"disgust\", \"fear\", \"joy\", \"sadness\", \"surprise\"])\n",
    "    classification_results.append(result)"
   ]
  },
  {
   "cell_type": "code",
   "execution_count": 107,
   "metadata": {},
   "outputs": [
    {
     "data": {
      "text/plain": [
       "{'sequence': 'seriously this is bs climate change is called weather end of lesson about of meteorologist can not even predict the weather daily on the news this is just more grant money for special interest stop wasting our tax dollars on an unpoven theory',\n",
       " 'labels': ['sadness', 'disgust', 'surprise', 'anger', 'fear', 'joy'],\n",
       " 'scores': [0.24847759306430817,\n",
       "  0.24724611639976501,\n",
       "  0.1980893462896347,\n",
       "  0.16834282875061035,\n",
       "  0.10081437230110168,\n",
       "  0.0370296947658062]}"
      ]
     },
     "execution_count": 107,
     "metadata": {},
     "output_type": "execute_result"
    }
   ],
   "source": [
    "classification_results[0]"
   ]
  },
  {
   "cell_type": "code",
   "execution_count": 108,
   "metadata": {},
   "outputs": [],
   "source": [
    "merged_df['pred_deberta_nli'] = [x['labels'][0] for x in classification_results]\n",
    "merged_df['confidence_deberta_nli'] = [x['scores'][0] for x in classification_results]"
   ]
  },
  {
   "cell_type": "code",
   "execution_count": 109,
   "metadata": {},
   "outputs": [],
   "source": [
    "zeroshot_classifier = pipeline(\"zero-shot-classification\", model=\"MoritzLaurer/deberta-v3-large-zeroshot-v2.0\", device=2)"
   ]
  },
  {
   "cell_type": "code",
   "execution_count": 110,
   "metadata": {},
   "outputs": [],
   "source": [
    "hypothesis_template = \"This emotion of this text is {}\"\n",
    "classification_results = []\n",
    "for text in data():\n",
    "    result = zeroshot_classifier(\n",
    "    text,\n",
    "    candidate_labels = [\"anger\", \"disgust\", \"fear\", \"joy\", \"sadness\", \"surprise\"],\n",
    "    hypothesis_template=hypothesis_template,\n",
    "    multi_label=False)\n",
    "    classification_results.append(result)"
   ]
  },
  {
   "cell_type": "code",
   "execution_count": 111,
   "metadata": {},
   "outputs": [
    {
     "data": {
      "text/plain": [
       "{'sequence': 'i can not wait right now for the climate change to does not feel warm out people oh wait it has to get cold before it gets hot',\n",
       " 'labels': ['joy', 'surprise', 'fear', 'anger', 'sadness', 'disgust'],\n",
       " 'scores': [0.8574373126029968,\n",
       "  0.08026963472366333,\n",
       "  0.024532657116651535,\n",
       "  0.014948503114283085,\n",
       "  0.014545111916959286,\n",
       "  0.00826676283031702]}"
      ]
     },
     "execution_count": 111,
     "metadata": {},
     "output_type": "execute_result"
    }
   ],
   "source": [
    "classification_results[3]"
   ]
  },
  {
   "cell_type": "code",
   "execution_count": 112,
   "metadata": {},
   "outputs": [],
   "source": [
    "merged_df['pred_deberta_zero'] = [x['labels'][0] for x in classification_results]\n",
    "merged_df['confidence_deberta_zero'] = [x['scores'][0] for x in classification_results]"
   ]
  },
  {
   "cell_type": "code",
   "execution_count": 113,
   "metadata": {},
   "outputs": [
    {
     "data": {
      "text/html": [
       "<div>\n",
       "<style scoped>\n",
       "    .dataframe tbody tr th:only-of-type {\n",
       "        vertical-align: middle;\n",
       "    }\n",
       "\n",
       "    .dataframe tbody tr th {\n",
       "        vertical-align: top;\n",
       "    }\n",
       "\n",
       "    .dataframe thead th {\n",
       "        text-align: right;\n",
       "    }\n",
       "</style>\n",
       "<table border=\"1\" class=\"dataframe\">\n",
       "  <thead>\n",
       "    <tr style=\"text-align: right;\">\n",
       "      <th></th>\n",
       "      <th>id</th>\n",
       "      <th>manual_label</th>\n",
       "      <th>conversation_id</th>\n",
       "      <th>created_at</th>\n",
       "      <th>replies</th>\n",
       "      <th>tweet_text</th>\n",
       "      <th>tweet_lang</th>\n",
       "      <th>lang_confidence</th>\n",
       "      <th>pred_roberta_base</th>\n",
       "      <th>confidence_roberta_base</th>\n",
       "      <th>pred_roberta_large</th>\n",
       "      <th>confidence_roberta_large</th>\n",
       "      <th>pred_bart</th>\n",
       "      <th>confidence_bart</th>\n",
       "      <th>pred_deberta_nli</th>\n",
       "      <th>confidence_deberta_nli</th>\n",
       "      <th>pred_deberta_zero</th>\n",
       "      <th>confidence_deberta_zero</th>\n",
       "    </tr>\n",
       "  </thead>\n",
       "  <tbody>\n",
       "    <tr>\n",
       "      <th>0</th>\n",
       "      <td>1097968284102733825</td>\n",
       "      <td>anger</td>\n",
       "      <td>1097912551038439430</td>\n",
       "      <td>2019-02-19 21:16:52+00:00</td>\n",
       "      <td>seriously this is bs climate change is called ...</td>\n",
       "      <td>Despite the immediate danger posed by climate ...</td>\n",
       "      <td>en</td>\n",
       "      <td>0.924149</td>\n",
       "      <td>anger</td>\n",
       "      <td>0.983953</td>\n",
       "      <td>disgust</td>\n",
       "      <td>0.992966</td>\n",
       "      <td>disgust</td>\n",
       "      <td>0.528941</td>\n",
       "      <td>sadness</td>\n",
       "      <td>0.248478</td>\n",
       "      <td>anger</td>\n",
       "      <td>0.942579</td>\n",
       "    </tr>\n",
       "    <tr>\n",
       "      <th>1</th>\n",
       "      <td>1100028581311381506</td>\n",
       "      <td>sadness</td>\n",
       "      <td>1099918265005080578</td>\n",
       "      <td>2019-02-25 13:43:45+00:00</td>\n",
       "      <td>hello ladies and gentleman i did a poem known ...</td>\n",
       "      <td>Many thanks for the RTs[USER] [USER] [USER] [U...</td>\n",
       "      <td>en</td>\n",
       "      <td>0.812816</td>\n",
       "      <td>surprise</td>\n",
       "      <td>0.828966</td>\n",
       "      <td>joy</td>\n",
       "      <td>0.791348</td>\n",
       "      <td>surprise</td>\n",
       "      <td>0.425855</td>\n",
       "      <td>anger</td>\n",
       "      <td>0.703004</td>\n",
       "      <td>anger</td>\n",
       "      <td>0.412198</td>\n",
       "    </tr>\n",
       "    <tr>\n",
       "      <th>2</th>\n",
       "      <td>1098431395314192384</td>\n",
       "      <td>fear</td>\n",
       "      <td>1097987884097900544</td>\n",
       "      <td>2019-02-21 03:57:07+00:00</td>\n",
       "      <td>climate change is real and nature will respond...</td>\n",
       "      <td>It’s not a big, iconic or ‘sexy’ species and i...</td>\n",
       "      <td>en</td>\n",
       "      <td>0.967180</td>\n",
       "      <td>joy</td>\n",
       "      <td>0.485237</td>\n",
       "      <td>joy</td>\n",
       "      <td>0.463469</td>\n",
       "      <td>surprise</td>\n",
       "      <td>0.356557</td>\n",
       "      <td>sadness</td>\n",
       "      <td>0.360635</td>\n",
       "      <td>fear</td>\n",
       "      <td>0.242224</td>\n",
       "    </tr>\n",
       "    <tr>\n",
       "      <th>3</th>\n",
       "      <td>1100462023278821377</td>\n",
       "      <td>surprise</td>\n",
       "      <td>1100154569663733760</td>\n",
       "      <td>2019-02-26 18:26:06+00:00</td>\n",
       "      <td>i can not wait right now for the climate chang...</td>\n",
       "      <td>In new Pew Poll, climate change falls to the b...</td>\n",
       "      <td>en</td>\n",
       "      <td>0.876844</td>\n",
       "      <td>anger</td>\n",
       "      <td>0.935621</td>\n",
       "      <td>sadness</td>\n",
       "      <td>0.724997</td>\n",
       "      <td>surprise</td>\n",
       "      <td>0.350577</td>\n",
       "      <td>sadness</td>\n",
       "      <td>0.357519</td>\n",
       "      <td>joy</td>\n",
       "      <td>0.857437</td>\n",
       "    </tr>\n",
       "    <tr>\n",
       "      <th>4</th>\n",
       "      <td>1099798892596678657</td>\n",
       "      <td>anger</td>\n",
       "      <td>1099783621609750528</td>\n",
       "      <td>2019-02-24 22:31:03+00:00</td>\n",
       "      <td>is too stupid to understand maybe if they watc...</td>\n",
       "      <td>The White House plans to assemble a group of s...</td>\n",
       "      <td>en</td>\n",
       "      <td>0.876993</td>\n",
       "      <td>disgust</td>\n",
       "      <td>0.909505</td>\n",
       "      <td>disgust</td>\n",
       "      <td>0.978206</td>\n",
       "      <td>surprise</td>\n",
       "      <td>0.584068</td>\n",
       "      <td>disgust</td>\n",
       "      <td>0.404413</td>\n",
       "      <td>anger</td>\n",
       "      <td>0.919790</td>\n",
       "    </tr>\n",
       "  </tbody>\n",
       "</table>\n",
       "</div>"
      ],
      "text/plain": [
       "                    id manual_label      conversation_id  \\\n",
       "0  1097968284102733825        anger  1097912551038439430   \n",
       "1  1100028581311381506      sadness  1099918265005080578   \n",
       "2  1098431395314192384         fear  1097987884097900544   \n",
       "3  1100462023278821377     surprise  1100154569663733760   \n",
       "4  1099798892596678657        anger  1099783621609750528   \n",
       "\n",
       "                  created_at  \\\n",
       "0  2019-02-19 21:16:52+00:00   \n",
       "1  2019-02-25 13:43:45+00:00   \n",
       "2  2019-02-21 03:57:07+00:00   \n",
       "3  2019-02-26 18:26:06+00:00   \n",
       "4  2019-02-24 22:31:03+00:00   \n",
       "\n",
       "                                             replies  \\\n",
       "0  seriously this is bs climate change is called ...   \n",
       "1  hello ladies and gentleman i did a poem known ...   \n",
       "2  climate change is real and nature will respond...   \n",
       "3  i can not wait right now for the climate chang...   \n",
       "4  is too stupid to understand maybe if they watc...   \n",
       "\n",
       "                                          tweet_text tweet_lang  \\\n",
       "0  Despite the immediate danger posed by climate ...         en   \n",
       "1  Many thanks for the RTs[USER] [USER] [USER] [U...         en   \n",
       "2  It’s not a big, iconic or ‘sexy’ species and i...         en   \n",
       "3  In new Pew Poll, climate change falls to the b...         en   \n",
       "4  The White House plans to assemble a group of s...         en   \n",
       "\n",
       "   lang_confidence pred_roberta_base  confidence_roberta_base  \\\n",
       "0         0.924149             anger                 0.983953   \n",
       "1         0.812816          surprise                 0.828966   \n",
       "2         0.967180               joy                 0.485237   \n",
       "3         0.876844             anger                 0.935621   \n",
       "4         0.876993           disgust                 0.909505   \n",
       "\n",
       "  pred_roberta_large  confidence_roberta_large pred_bart  confidence_bart  \\\n",
       "0            disgust                  0.992966   disgust         0.528941   \n",
       "1                joy                  0.791348  surprise         0.425855   \n",
       "2                joy                  0.463469  surprise         0.356557   \n",
       "3            sadness                  0.724997  surprise         0.350577   \n",
       "4            disgust                  0.978206  surprise         0.584068   \n",
       "\n",
       "  pred_deberta_nli  confidence_deberta_nli pred_deberta_zero  \\\n",
       "0          sadness                0.248478             anger   \n",
       "1            anger                0.703004             anger   \n",
       "2          sadness                0.360635              fear   \n",
       "3          sadness                0.357519               joy   \n",
       "4          disgust                0.404413             anger   \n",
       "\n",
       "   confidence_deberta_zero  \n",
       "0                 0.942579  \n",
       "1                 0.412198  \n",
       "2                 0.242224  \n",
       "3                 0.857437  \n",
       "4                 0.919790  "
      ]
     },
     "execution_count": 113,
     "metadata": {},
     "output_type": "execute_result"
    }
   ],
   "source": [
    "merged_df.head()"
   ]
  },
  {
   "cell_type": "code",
   "execution_count": 114,
   "metadata": {},
   "outputs": [],
   "source": [
    "def confidence(confidence_threshold):\n",
    "    models = ['roberta_base', 'roberta_large', 'bart', 'deberta_nli', 'deberta_zero']\n",
    "\n",
    "    results = {}\n",
    "\n",
    "    for model in models:\n",
    "        \n",
    "        high_confidence_df = merged_df[merged_df[f'confidence_{model}'] >= confidence_threshold].copy()\n",
    "        \n",
    "        high_confidence_df['correct'] = high_confidence_df['manual_label'] == high_confidence_df[f'pred_{model}']\n",
    "        \n",
    "        correct_high_confidence = high_confidence_df['correct'].sum()\n",
    "        total_high_confidence = len(high_confidence_df)\n",
    "        percentage_correct = correct_high_confidence / total_high_confidence * 100\n",
    "        \n",
    "        results[model] = {\n",
    "        'correct': correct_high_confidence,\n",
    "        'total': total_high_confidence,\n",
    "        'percentage': percentage_correct\n",
    "    }\n",
    "\n",
    "    return results"
   ]
  },
  {
   "cell_type": "code",
   "execution_count": 121,
   "metadata": {},
   "outputs": [
    {
     "data": {
      "text/html": [
       "<div>\n",
       "<style scoped>\n",
       "    .dataframe tbody tr th:only-of-type {\n",
       "        vertical-align: middle;\n",
       "    }\n",
       "\n",
       "    .dataframe tbody tr th {\n",
       "        vertical-align: top;\n",
       "    }\n",
       "\n",
       "    .dataframe thead th {\n",
       "        text-align: right;\n",
       "    }\n",
       "</style>\n",
       "<table border=\"1\" class=\"dataframe\">\n",
       "  <thead>\n",
       "    <tr style=\"text-align: right;\">\n",
       "      <th></th>\n",
       "      <th>roberta_base</th>\n",
       "      <th>roberta_large</th>\n",
       "      <th>bart</th>\n",
       "      <th>deberta_nli</th>\n",
       "      <th>deberta_zero</th>\n",
       "    </tr>\n",
       "  </thead>\n",
       "  <tbody>\n",
       "    <tr>\n",
       "      <th>correct</th>\n",
       "      <td>35.000000</td>\n",
       "      <td>34.000000</td>\n",
       "      <td>2.0</td>\n",
       "      <td>0.0</td>\n",
       "      <td>15.000000</td>\n",
       "    </tr>\n",
       "    <tr>\n",
       "      <th>total</th>\n",
       "      <td>47.000000</td>\n",
       "      <td>52.000000</td>\n",
       "      <td>2.0</td>\n",
       "      <td>1.0</td>\n",
       "      <td>19.000000</td>\n",
       "    </tr>\n",
       "    <tr>\n",
       "      <th>percentage</th>\n",
       "      <td>74.468085</td>\n",
       "      <td>65.384615</td>\n",
       "      <td>100.0</td>\n",
       "      <td>0.0</td>\n",
       "      <td>78.947368</td>\n",
       "    </tr>\n",
       "  </tbody>\n",
       "</table>\n",
       "</div>"
      ],
      "text/plain": [
       "            roberta_base  roberta_large   bart  deberta_nli  deberta_zero\n",
       "correct        35.000000      34.000000    2.0          0.0     15.000000\n",
       "total          47.000000      52.000000    2.0          1.0     19.000000\n",
       "percentage     74.468085      65.384615  100.0          0.0     78.947368"
      ]
     },
     "execution_count": 121,
     "metadata": {},
     "output_type": "execute_result"
    }
   ],
   "source": [
    "results = confidence(0.95)\n",
    "pd.DataFrame(results)"
   ]
  },
  {
   "cell_type": "code",
   "execution_count": 116,
   "metadata": {},
   "outputs": [
    {
     "data": {
      "text/html": [
       "<div>\n",
       "<style scoped>\n",
       "    .dataframe tbody tr th:only-of-type {\n",
       "        vertical-align: middle;\n",
       "    }\n",
       "\n",
       "    .dataframe tbody tr th {\n",
       "        vertical-align: top;\n",
       "    }\n",
       "\n",
       "    .dataframe thead th {\n",
       "        text-align: right;\n",
       "    }\n",
       "</style>\n",
       "<table border=\"1\" class=\"dataframe\">\n",
       "  <thead>\n",
       "    <tr style=\"text-align: right;\">\n",
       "      <th></th>\n",
       "      <th>roberta_base</th>\n",
       "      <th>roberta_large</th>\n",
       "      <th>bart</th>\n",
       "      <th>deberta_nli</th>\n",
       "      <th>deberta_zero</th>\n",
       "    </tr>\n",
       "  </thead>\n",
       "  <tbody>\n",
       "    <tr>\n",
       "      <th>correct</th>\n",
       "      <td>38.000000</td>\n",
       "      <td>41.000000</td>\n",
       "      <td>4.0</td>\n",
       "      <td>0.0</td>\n",
       "      <td>24.000000</td>\n",
       "    </tr>\n",
       "    <tr>\n",
       "      <th>total</th>\n",
       "      <td>61.000000</td>\n",
       "      <td>65.000000</td>\n",
       "      <td>5.0</td>\n",
       "      <td>1.0</td>\n",
       "      <td>33.000000</td>\n",
       "    </tr>\n",
       "    <tr>\n",
       "      <th>percentage</th>\n",
       "      <td>62.295082</td>\n",
       "      <td>63.076923</td>\n",
       "      <td>80.0</td>\n",
       "      <td>0.0</td>\n",
       "      <td>72.727273</td>\n",
       "    </tr>\n",
       "  </tbody>\n",
       "</table>\n",
       "</div>"
      ],
      "text/plain": [
       "            roberta_base  roberta_large  bart  deberta_nli  deberta_zero\n",
       "correct        38.000000      41.000000   4.0          0.0     24.000000\n",
       "total          61.000000      65.000000   5.0          1.0     33.000000\n",
       "percentage     62.295082      63.076923  80.0          0.0     72.727273"
      ]
     },
     "execution_count": 116,
     "metadata": {},
     "output_type": "execute_result"
    }
   ],
   "source": [
    "results = confidence(0.9)\n",
    "pd.DataFrame(results)"
   ]
  },
  {
   "cell_type": "code",
   "execution_count": 117,
   "metadata": {},
   "outputs": [
    {
     "data": {
      "text/html": [
       "<div>\n",
       "<style scoped>\n",
       "    .dataframe tbody tr th:only-of-type {\n",
       "        vertical-align: middle;\n",
       "    }\n",
       "\n",
       "    .dataframe tbody tr th {\n",
       "        vertical-align: top;\n",
       "    }\n",
       "\n",
       "    .dataframe thead th {\n",
       "        text-align: right;\n",
       "    }\n",
       "</style>\n",
       "<table border=\"1\" class=\"dataframe\">\n",
       "  <thead>\n",
       "    <tr style=\"text-align: right;\">\n",
       "      <th></th>\n",
       "      <th>roberta_base</th>\n",
       "      <th>roberta_large</th>\n",
       "      <th>bart</th>\n",
       "      <th>deberta_nli</th>\n",
       "      <th>deberta_zero</th>\n",
       "    </tr>\n",
       "  </thead>\n",
       "  <tbody>\n",
       "    <tr>\n",
       "      <th>correct</th>\n",
       "      <td>43.000000</td>\n",
       "      <td>41.000000</td>\n",
       "      <td>6.000000</td>\n",
       "      <td>5.000000</td>\n",
       "      <td>32.000000</td>\n",
       "    </tr>\n",
       "    <tr>\n",
       "      <th>total</th>\n",
       "      <td>75.000000</td>\n",
       "      <td>76.000000</td>\n",
       "      <td>11.000000</td>\n",
       "      <td>7.000000</td>\n",
       "      <td>48.000000</td>\n",
       "    </tr>\n",
       "    <tr>\n",
       "      <th>percentage</th>\n",
       "      <td>57.333333</td>\n",
       "      <td>53.947368</td>\n",
       "      <td>54.545455</td>\n",
       "      <td>71.428571</td>\n",
       "      <td>66.666667</td>\n",
       "    </tr>\n",
       "  </tbody>\n",
       "</table>\n",
       "</div>"
      ],
      "text/plain": [
       "            roberta_base  roberta_large       bart  deberta_nli  deberta_zero\n",
       "correct        43.000000      41.000000   6.000000     5.000000     32.000000\n",
       "total          75.000000      76.000000  11.000000     7.000000     48.000000\n",
       "percentage     57.333333      53.947368  54.545455    71.428571     66.666667"
      ]
     },
     "execution_count": 117,
     "metadata": {},
     "output_type": "execute_result"
    }
   ],
   "source": [
    "results = confidence(0.8)\n",
    "pd.DataFrame(results)"
   ]
  },
  {
   "cell_type": "code",
   "execution_count": 118,
   "metadata": {},
   "outputs": [
    {
     "data": {
      "text/html": [
       "<div>\n",
       "<style scoped>\n",
       "    .dataframe tbody tr th:only-of-type {\n",
       "        vertical-align: middle;\n",
       "    }\n",
       "\n",
       "    .dataframe tbody tr th {\n",
       "        vertical-align: top;\n",
       "    }\n",
       "\n",
       "    .dataframe thead th {\n",
       "        text-align: right;\n",
       "    }\n",
       "</style>\n",
       "<table border=\"1\" class=\"dataframe\">\n",
       "  <thead>\n",
       "    <tr style=\"text-align: right;\">\n",
       "      <th></th>\n",
       "      <th>roberta_base</th>\n",
       "      <th>roberta_large</th>\n",
       "      <th>bart</th>\n",
       "      <th>deberta_nli</th>\n",
       "      <th>deberta_zero</th>\n",
       "    </tr>\n",
       "  </thead>\n",
       "  <tbody>\n",
       "    <tr>\n",
       "      <th>correct</th>\n",
       "      <td>47.000000</td>\n",
       "      <td>47.000000</td>\n",
       "      <td>10.0</td>\n",
       "      <td>8.000000</td>\n",
       "      <td>40.00000</td>\n",
       "    </tr>\n",
       "    <tr>\n",
       "      <th>total</th>\n",
       "      <td>82.000000</td>\n",
       "      <td>89.000000</td>\n",
       "      <td>25.0</td>\n",
       "      <td>14.000000</td>\n",
       "      <td>61.00000</td>\n",
       "    </tr>\n",
       "    <tr>\n",
       "      <th>percentage</th>\n",
       "      <td>57.317073</td>\n",
       "      <td>52.808989</td>\n",
       "      <td>40.0</td>\n",
       "      <td>57.142857</td>\n",
       "      <td>65.57377</td>\n",
       "    </tr>\n",
       "  </tbody>\n",
       "</table>\n",
       "</div>"
      ],
      "text/plain": [
       "            roberta_base  roberta_large  bart  deberta_nli  deberta_zero\n",
       "correct        47.000000      47.000000  10.0     8.000000      40.00000\n",
       "total          82.000000      89.000000  25.0    14.000000      61.00000\n",
       "percentage     57.317073      52.808989  40.0    57.142857      65.57377"
      ]
     },
     "execution_count": 118,
     "metadata": {},
     "output_type": "execute_result"
    }
   ],
   "source": [
    "results = confidence(0.7)\n",
    "pd.DataFrame(results)"
   ]
  },
  {
   "cell_type": "code",
   "execution_count": 119,
   "metadata": {},
   "outputs": [
    {
     "data": {
      "text/html": [
       "<div>\n",
       "<style scoped>\n",
       "    .dataframe tbody tr th:only-of-type {\n",
       "        vertical-align: middle;\n",
       "    }\n",
       "\n",
       "    .dataframe tbody tr th {\n",
       "        vertical-align: top;\n",
       "    }\n",
       "\n",
       "    .dataframe thead th {\n",
       "        text-align: right;\n",
       "    }\n",
       "</style>\n",
       "<table border=\"1\" class=\"dataframe\">\n",
       "  <thead>\n",
       "    <tr style=\"text-align: right;\">\n",
       "      <th></th>\n",
       "      <th>manual_label</th>\n",
       "      <th>pred_deberta_zero</th>\n",
       "      <th>replies</th>\n",
       "    </tr>\n",
       "  </thead>\n",
       "  <tbody>\n",
       "    <tr>\n",
       "      <th>0</th>\n",
       "      <td>anger</td>\n",
       "      <td>anger</td>\n",
       "      <td>seriously this is bs climate change is called ...</td>\n",
       "    </tr>\n",
       "    <tr>\n",
       "      <th>3</th>\n",
       "      <td>surprise</td>\n",
       "      <td>joy</td>\n",
       "      <td>i can not wait right now for the climate chang...</td>\n",
       "    </tr>\n",
       "    <tr>\n",
       "      <th>4</th>\n",
       "      <td>anger</td>\n",
       "      <td>anger</td>\n",
       "      <td>is too stupid to understand maybe if they watc...</td>\n",
       "    </tr>\n",
       "    <tr>\n",
       "      <th>5</th>\n",
       "      <td>anger</td>\n",
       "      <td>surprise</td>\n",
       "      <td>i fully expected meghans head to spin around c...</td>\n",
       "    </tr>\n",
       "    <tr>\n",
       "      <th>8</th>\n",
       "      <td>surprise</td>\n",
       "      <td>anger</td>\n",
       "      <td>emember when the alarmists said there would be...</td>\n",
       "    </tr>\n",
       "    <tr>\n",
       "      <th>9</th>\n",
       "      <td>sadness</td>\n",
       "      <td>anger</td>\n",
       "      <td>never have and never would i have a lot of dem...</td>\n",
       "    </tr>\n",
       "    <tr>\n",
       "      <th>10</th>\n",
       "      <td>joy</td>\n",
       "      <td>joy</td>\n",
       "      <td>i am a wind turbine but let us dance when i co...</td>\n",
       "    </tr>\n",
       "    <tr>\n",
       "      <th>11</th>\n",
       "      <td>anger</td>\n",
       "      <td>anger</td>\n",
       "      <td>fact globally cc is still based on theory only...</td>\n",
       "    </tr>\n",
       "    <tr>\n",
       "      <th>14</th>\n",
       "      <td>sadness</td>\n",
       "      <td>joy</td>\n",
       "      <td>i am thoroughly enjoying this decline into apo...</td>\n",
       "    </tr>\n",
       "    <tr>\n",
       "      <th>18</th>\n",
       "      <td>surprise</td>\n",
       "      <td>surprise</td>\n",
       "      <td>so you realized they gained more ice than expe...</td>\n",
       "    </tr>\n",
       "  </tbody>\n",
       "</table>\n",
       "</div>"
      ],
      "text/plain": [
       "   manual_label pred_deberta_zero  \\\n",
       "0         anger             anger   \n",
       "3      surprise               joy   \n",
       "4         anger             anger   \n",
       "5         anger          surprise   \n",
       "8      surprise             anger   \n",
       "9       sadness             anger   \n",
       "10          joy               joy   \n",
       "11        anger             anger   \n",
       "14      sadness               joy   \n",
       "18     surprise          surprise   \n",
       "\n",
       "                                              replies  \n",
       "0   seriously this is bs climate change is called ...  \n",
       "3   i can not wait right now for the climate chang...  \n",
       "4   is too stupid to understand maybe if they watc...  \n",
       "5   i fully expected meghans head to spin around c...  \n",
       "8   emember when the alarmists said there would be...  \n",
       "9   never have and never would i have a lot of dem...  \n",
       "10  i am a wind turbine but let us dance when i co...  \n",
       "11  fact globally cc is still based on theory only...  \n",
       "14  i am thoroughly enjoying this decline into apo...  \n",
       "18  so you realized they gained more ice than expe...  "
      ]
     },
     "execution_count": 119,
     "metadata": {},
     "output_type": "execute_result"
    }
   ],
   "source": [
    "merged_df[merged_df[f'confidence_deberta_zero'] >= 0.8][['manual_label', 'pred_deberta_zero', 'replies']].head(10)"
   ]
  },
  {
   "cell_type": "code",
   "execution_count": null,
   "metadata": {},
   "outputs": [],
   "source": []
  }
 ],
 "metadata": {
  "kernelspec": {
   "display_name": "thesis_env",
   "language": "python",
   "name": "python3"
  },
  "language_info": {
   "codemirror_mode": {
    "name": "ipython",
    "version": 3
   },
   "file_extension": ".py",
   "mimetype": "text/x-python",
   "name": "python",
   "nbconvert_exporter": "python",
   "pygments_lexer": "ipython3",
   "version": "3.11.9"
  }
 },
 "nbformat": 4,
 "nbformat_minor": 2
}
