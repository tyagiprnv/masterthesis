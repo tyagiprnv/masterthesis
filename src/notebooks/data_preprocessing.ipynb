{
 "cells": [
  {
   "cell_type": "code",
   "execution_count": 2,
   "metadata": {
    "collapsed": true
   },
   "outputs": [
    {
     "name": "stderr",
     "output_type": "stream",
     "text": [
      "/home/ptyagi/miniconda3/envs/thesis_env/lib/python3.11/site-packages/tqdm/auto.py:21: TqdmWarning: IProgress not found. Please update jupyter and ipywidgets. See https://ipywidgets.readthedocs.io/en/stable/user_install.html\n",
      "  from .autonotebook import tqdm as notebook_tqdm\n",
      "2024-12-06 15:06:16.722111: E external/local_xla/xla/stream_executor/cuda/cuda_fft.cc:477] Unable to register cuFFT factory: Attempting to register factory for plugin cuFFT when one has already been registered\n",
      "WARNING: All log messages before absl::InitializeLog() is called are written to STDERR\n",
      "E0000 00:00:1733493976.737882 3021848 cuda_dnn.cc:8310] Unable to register cuDNN factory: Attempting to register factory for plugin cuDNN when one has already been registered\n",
      "E0000 00:00:1733493976.742714 3021848 cuda_blas.cc:1418] Unable to register cuBLAS factory: Attempting to register factory for plugin cuBLAS when one has already been registered\n",
      "2024-12-06 15:06:16.763020: I tensorflow/core/platform/cpu_feature_guard.cc:210] This TensorFlow binary is optimized to use available CPU instructions in performance-critical operations.\n",
      "To enable the following instructions: AVX2 FMA, in other operations, rebuild TensorFlow with the appropriate compiler flags.\n"
     ]
    }
   ],
   "source": [
    "import pandas as pd\n",
    "import numpy as np\n",
    "import os\n",
    "from transformers import pipeline\n",
    "import re\n",
    "\n",
    "\n"
   ]
  },
  {
   "cell_type": "code",
   "execution_count": 3,
   "metadata": {},
   "outputs": [],
   "source": [
    "replies = pd.read_csv('/work/ptyagi/ClimateVisions/Tweet_Replies/Isaac_replies/replies_translated.csv')"
   ]
  },
  {
   "cell_type": "code",
   "execution_count": 4,
   "metadata": {},
   "outputs": [
    {
     "data": {
      "text/html": [
       "<div>\n",
       "<style scoped>\n",
       "    .dataframe tbody tr th:only-of-type {\n",
       "        vertical-align: middle;\n",
       "    }\n",
       "\n",
       "    .dataframe tbody tr th {\n",
       "        vertical-align: top;\n",
       "    }\n",
       "\n",
       "    .dataframe thead th {\n",
       "        text-align: right;\n",
       "    }\n",
       "</style>\n",
       "<table border=\"1\" class=\"dataframe\">\n",
       "  <thead>\n",
       "    <tr style=\"text-align: right;\">\n",
       "      <th></th>\n",
       "      <th>Unnamed: 0</th>\n",
       "      <th>id</th>\n",
       "      <th>conversation_id</th>\n",
       "      <th>created_at</th>\n",
       "      <th>text</th>\n",
       "    </tr>\n",
       "  </thead>\n",
       "  <tbody>\n",
       "    <tr>\n",
       "      <th>0</th>\n",
       "      <td>1</td>\n",
       "      <td>1120457284268756992</td>\n",
       "      <td>1120240313484959744</td>\n",
       "      <td>2019-04-22T22:40:08.000Z</td>\n",
       "      <td>exactly breaking the law this is what those wo...</td>\n",
       "    </tr>\n",
       "    <tr>\n",
       "      <th>1</th>\n",
       "      <td>2</td>\n",
       "      <td>1120263796952567808</td>\n",
       "      <td>1120240313484959744</td>\n",
       "      <td>2019-04-22T09:51:17.000Z</td>\n",
       "      <td>what is your comment</td>\n",
       "    </tr>\n",
       "    <tr>\n",
       "      <th>2</th>\n",
       "      <td>3</td>\n",
       "      <td>1120261379427115010</td>\n",
       "      <td>1120240313484959744</td>\n",
       "      <td>2019-04-22T09:41:40.000Z</td>\n",
       "      <td>in the end these are untalented lobbyists whos...</td>\n",
       "    </tr>\n",
       "    <tr>\n",
       "      <th>3</th>\n",
       "      <td>4</td>\n",
       "      <td>1120260145362214912</td>\n",
       "      <td>1120240313484959744</td>\n",
       "      <td>2019-04-22T09:36:46.000Z</td>\n",
       "      <td>who is going to believe this organisations thi...</td>\n",
       "    </tr>\n",
       "    <tr>\n",
       "      <th>4</th>\n",
       "      <td>5</td>\n",
       "      <td>1120258615678525440</td>\n",
       "      <td>1120240313484959744</td>\n",
       "      <td>2019-04-22T09:30:42.000Z</td>\n",
       "      <td>and i did give both amnety and hws statements ...</td>\n",
       "    </tr>\n",
       "  </tbody>\n",
       "</table>\n",
       "</div>"
      ],
      "text/plain": [
       "   Unnamed: 0                   id      conversation_id  \\\n",
       "0           1  1120457284268756992  1120240313484959744   \n",
       "1           2  1120263796952567808  1120240313484959744   \n",
       "2           3  1120261379427115010  1120240313484959744   \n",
       "3           4  1120260145362214912  1120240313484959744   \n",
       "4           5  1120258615678525440  1120240313484959744   \n",
       "\n",
       "                 created_at                                               text  \n",
       "0  2019-04-22T22:40:08.000Z  exactly breaking the law this is what those wo...  \n",
       "1  2019-04-22T09:51:17.000Z                               what is your comment  \n",
       "2  2019-04-22T09:41:40.000Z  in the end these are untalented lobbyists whos...  \n",
       "3  2019-04-22T09:36:46.000Z  who is going to believe this organisations thi...  \n",
       "4  2019-04-22T09:30:42.000Z  and i did give both amnety and hws statements ...  "
      ]
     },
     "execution_count": 4,
     "metadata": {},
     "output_type": "execute_result"
    }
   ],
   "source": [
    "replies.head()"
   ]
  },
  {
   "cell_type": "code",
   "execution_count": 5,
   "metadata": {},
   "outputs": [],
   "source": [
    "replies['created_at'] = pd.to_datetime(replies['created_at'])\n",
    "replies.rename(columns={'text':'replies'}, inplace=True)"
   ]
  },
  {
   "cell_type": "code",
   "execution_count": 6,
   "metadata": {},
   "outputs": [
    {
     "name": "stdout",
     "output_type": "stream",
     "text": [
      "<class 'pandas.core.frame.DataFrame'>\n",
      "RangeIndex: 3795245 entries, 0 to 3795244\n",
      "Data columns (total 5 columns):\n",
      " #   Column           Dtype              \n",
      "---  ------           -----              \n",
      " 0   Unnamed: 0       int64              \n",
      " 1   id               int64              \n",
      " 2   conversation_id  int64              \n",
      " 3   created_at       datetime64[ns, UTC]\n",
      " 4   replies          object             \n",
      "dtypes: datetime64[ns, UTC](1), int64(3), object(1)\n",
      "memory usage: 144.8+ MB\n"
     ]
    }
   ],
   "source": [
    "replies.info()"
   ]
  },
  {
   "cell_type": "code",
   "execution_count": 7,
   "metadata": {},
   "outputs": [
    {
     "data": {
      "text/html": [
       "<div>\n",
       "<style scoped>\n",
       "    .dataframe tbody tr th:only-of-type {\n",
       "        vertical-align: middle;\n",
       "    }\n",
       "\n",
       "    .dataframe tbody tr th {\n",
       "        vertical-align: top;\n",
       "    }\n",
       "\n",
       "    .dataframe thead th {\n",
       "        text-align: right;\n",
       "    }\n",
       "</style>\n",
       "<table border=\"1\" class=\"dataframe\">\n",
       "  <thead>\n",
       "    <tr style=\"text-align: right;\">\n",
       "      <th></th>\n",
       "      <th>Unnamed: 0</th>\n",
       "      <th>id</th>\n",
       "      <th>conversation_id</th>\n",
       "      <th>created_at</th>\n",
       "      <th>replies</th>\n",
       "    </tr>\n",
       "  </thead>\n",
       "  <tbody>\n",
       "    <tr>\n",
       "      <th>0</th>\n",
       "      <td>1</td>\n",
       "      <td>1120457284268756992</td>\n",
       "      <td>1120240313484959744</td>\n",
       "      <td>2019-04-22 22:40:08+00:00</td>\n",
       "      <td>exactly breaking the law this is what those wo...</td>\n",
       "    </tr>\n",
       "    <tr>\n",
       "      <th>1</th>\n",
       "      <td>2</td>\n",
       "      <td>1120263796952567808</td>\n",
       "      <td>1120240313484959744</td>\n",
       "      <td>2019-04-22 09:51:17+00:00</td>\n",
       "      <td>what is your comment</td>\n",
       "    </tr>\n",
       "    <tr>\n",
       "      <th>2</th>\n",
       "      <td>3</td>\n",
       "      <td>1120261379427115010</td>\n",
       "      <td>1120240313484959744</td>\n",
       "      <td>2019-04-22 09:41:40+00:00</td>\n",
       "      <td>in the end these are untalented lobbyists whos...</td>\n",
       "    </tr>\n",
       "    <tr>\n",
       "      <th>3</th>\n",
       "      <td>4</td>\n",
       "      <td>1120260145362214912</td>\n",
       "      <td>1120240313484959744</td>\n",
       "      <td>2019-04-22 09:36:46+00:00</td>\n",
       "      <td>who is going to believe this organisations thi...</td>\n",
       "    </tr>\n",
       "    <tr>\n",
       "      <th>4</th>\n",
       "      <td>5</td>\n",
       "      <td>1120258615678525440</td>\n",
       "      <td>1120240313484959744</td>\n",
       "      <td>2019-04-22 09:30:42+00:00</td>\n",
       "      <td>and i did give both amnety and hws statements ...</td>\n",
       "    </tr>\n",
       "  </tbody>\n",
       "</table>\n",
       "</div>"
      ],
      "text/plain": [
       "   Unnamed: 0                   id      conversation_id  \\\n",
       "0           1  1120457284268756992  1120240313484959744   \n",
       "1           2  1120263796952567808  1120240313484959744   \n",
       "2           3  1120261379427115010  1120240313484959744   \n",
       "3           4  1120260145362214912  1120240313484959744   \n",
       "4           5  1120258615678525440  1120240313484959744   \n",
       "\n",
       "                 created_at                                            replies  \n",
       "0 2019-04-22 22:40:08+00:00  exactly breaking the law this is what those wo...  \n",
       "1 2019-04-22 09:51:17+00:00                               what is your comment  \n",
       "2 2019-04-22 09:41:40+00:00  in the end these are untalented lobbyists whos...  \n",
       "3 2019-04-22 09:36:46+00:00  who is going to believe this organisations thi...  \n",
       "4 2019-04-22 09:30:42+00:00  and i did give both amnety and hws statements ...  "
      ]
     },
     "execution_count": 7,
     "metadata": {},
     "output_type": "execute_result"
    }
   ],
   "source": [
    "replies.head()"
   ]
  },
  {
   "cell_type": "code",
   "execution_count": 8,
   "metadata": {},
   "outputs": [],
   "source": [
    "replies_aug_2019 = replies[(replies['created_at'].dt.month == 8) & (replies['created_at'].dt.year == 2019)].copy()"
   ]
  },
  {
   "cell_type": "code",
   "execution_count": 9,
   "metadata": {},
   "outputs": [],
   "source": [
    "replies_aug_2019.drop(columns='Unnamed: 0', inplace=True)"
   ]
  },
  {
   "cell_type": "code",
   "execution_count": 10,
   "metadata": {},
   "outputs": [
    {
     "name": "stdout",
     "output_type": "stream",
     "text": [
      "<class 'pandas.core.frame.DataFrame'>\n",
      "Index: 74908 entries, 9 to 3523787\n",
      "Data columns (total 4 columns):\n",
      " #   Column           Non-Null Count  Dtype              \n",
      "---  ------           --------------  -----              \n",
      " 0   id               74908 non-null  int64              \n",
      " 1   conversation_id  74908 non-null  int64              \n",
      " 2   created_at       74908 non-null  datetime64[ns, UTC]\n",
      " 3   replies          74818 non-null  object             \n",
      "dtypes: datetime64[ns, UTC](1), int64(2), object(1)\n",
      "memory usage: 2.9+ MB\n"
     ]
    }
   ],
   "source": [
    "replies_aug_2019.info()"
   ]
  },
  {
   "cell_type": "code",
   "execution_count": 11,
   "metadata": {},
   "outputs": [],
   "source": [
    "replies_aug_2019.sort_values(by='created_at', ascending=True, inplace=True)"
   ]
  },
  {
   "cell_type": "code",
   "execution_count": 12,
   "metadata": {},
   "outputs": [
    {
     "data": {
      "text/html": [
       "<div>\n",
       "<style scoped>\n",
       "    .dataframe tbody tr th:only-of-type {\n",
       "        vertical-align: middle;\n",
       "    }\n",
       "\n",
       "    .dataframe tbody tr th {\n",
       "        vertical-align: top;\n",
       "    }\n",
       "\n",
       "    .dataframe thead th {\n",
       "        text-align: right;\n",
       "    }\n",
       "</style>\n",
       "<table border=\"1\" class=\"dataframe\">\n",
       "  <thead>\n",
       "    <tr style=\"text-align: right;\">\n",
       "      <th></th>\n",
       "      <th>id</th>\n",
       "      <th>conversation_id</th>\n",
       "      <th>created_at</th>\n",
       "      <th>replies</th>\n",
       "    </tr>\n",
       "  </thead>\n",
       "  <tbody>\n",
       "    <tr>\n",
       "      <th>293133</th>\n",
       "      <td>1156716497592639493</td>\n",
       "      <td>1156715487503536128</td>\n",
       "      <td>2019-08-01 00:01:18+00:00</td>\n",
       "      <td>yes</td>\n",
       "    </tr>\n",
       "    <tr>\n",
       "      <th>293132</th>\n",
       "      <td>1156716596775260161</td>\n",
       "      <td>1156715487503536128</td>\n",
       "      <td>2019-08-01 00:01:42+00:00</td>\n",
       "      <td>yes</td>\n",
       "    </tr>\n",
       "    <tr>\n",
       "      <th>293810</th>\n",
       "      <td>1156717206648098817</td>\n",
       "      <td>1156521373419921408</td>\n",
       "      <td>2019-08-01 00:04:07+00:00</td>\n",
       "      <td>oat and soy for me</td>\n",
       "    </tr>\n",
       "    <tr>\n",
       "      <th>293131</th>\n",
       "      <td>1156717326743425029</td>\n",
       "      <td>1156715487503536128</td>\n",
       "      <td>2019-08-01 00:04:36+00:00</td>\n",
       "      <td>i bet not one candidate understands what the c...</td>\n",
       "    </tr>\n",
       "    <tr>\n",
       "      <th>2935339</th>\n",
       "      <td>1156717403419660288</td>\n",
       "      <td>1156270691181826049</td>\n",
       "      <td>2019-08-01 00:04:54+00:00</td>\n",
       "      <td>That yes, yes... that what happened six decade...</td>\n",
       "    </tr>\n",
       "  </tbody>\n",
       "</table>\n",
       "</div>"
      ],
      "text/plain": [
       "                          id      conversation_id                created_at  \\\n",
       "293133   1156716497592639493  1156715487503536128 2019-08-01 00:01:18+00:00   \n",
       "293132   1156716596775260161  1156715487503536128 2019-08-01 00:01:42+00:00   \n",
       "293810   1156717206648098817  1156521373419921408 2019-08-01 00:04:07+00:00   \n",
       "293131   1156717326743425029  1156715487503536128 2019-08-01 00:04:36+00:00   \n",
       "2935339  1156717403419660288  1156270691181826049 2019-08-01 00:04:54+00:00   \n",
       "\n",
       "                                                   replies  \n",
       "293133                                                 yes  \n",
       "293132                                                 yes  \n",
       "293810                                  oat and soy for me  \n",
       "293131   i bet not one candidate understands what the c...  \n",
       "2935339  That yes, yes... that what happened six decade...  "
      ]
     },
     "execution_count": 12,
     "metadata": {},
     "output_type": "execute_result"
    }
   ],
   "source": [
    "replies_aug_2019.head()"
   ]
  },
  {
   "cell_type": "code",
   "execution_count": 13,
   "metadata": {},
   "outputs": [
    {
     "data": {
      "text/html": [
       "<div>\n",
       "<style scoped>\n",
       "    .dataframe tbody tr th:only-of-type {\n",
       "        vertical-align: middle;\n",
       "    }\n",
       "\n",
       "    .dataframe tbody tr th {\n",
       "        vertical-align: top;\n",
       "    }\n",
       "\n",
       "    .dataframe thead th {\n",
       "        text-align: right;\n",
       "    }\n",
       "</style>\n",
       "<table border=\"1\" class=\"dataframe\">\n",
       "  <thead>\n",
       "    <tr style=\"text-align: right;\">\n",
       "      <th></th>\n",
       "      <th>id</th>\n",
       "      <th>conversation_id</th>\n",
       "      <th>created_at</th>\n",
       "      <th>replies</th>\n",
       "    </tr>\n",
       "  </thead>\n",
       "  <tbody>\n",
       "    <tr>\n",
       "      <th>2944733</th>\n",
       "      <td>1167947540399939584</td>\n",
       "      <td>1167940127273828352</td>\n",
       "      <td>2019-08-31 23:49:27+00:00</td>\n",
       "      <td>Look on the networks who is Mr. Soros!? He is ...</td>\n",
       "    </tr>\n",
       "    <tr>\n",
       "      <th>343302</th>\n",
       "      <td>1167947674261147651</td>\n",
       "      <td>1167833288515309569</td>\n",
       "      <td>2019-08-31 23:49:59+00:00</td>\n",
       "      <td>yes i was explaining this conceptually to some...</td>\n",
       "    </tr>\n",
       "    <tr>\n",
       "      <th>2944767</th>\n",
       "      <td>1167948608995393536</td>\n",
       "      <td>1167848901489176577</td>\n",
       "      <td>2019-08-31 23:53:42+00:00</td>\n",
       "      <td>They only have ideas to oppose and confront an...</td>\n",
       "    </tr>\n",
       "    <tr>\n",
       "      <th>341598</th>\n",
       "      <td>1167949238497501185</td>\n",
       "      <td>1167576458379825153</td>\n",
       "      <td>2019-08-31 23:56:12+00:00</td>\n",
       "      <td>you are doing the right thing this is by far t...</td>\n",
       "    </tr>\n",
       "    <tr>\n",
       "      <th>342282</th>\n",
       "      <td>1167950192160604160</td>\n",
       "      <td>1167458952268963841</td>\n",
       "      <td>2019-08-31 23:59:59+00:00</td>\n",
       "      <td>people can not remove bias from their opinions...</td>\n",
       "    </tr>\n",
       "  </tbody>\n",
       "</table>\n",
       "</div>"
      ],
      "text/plain": [
       "                          id      conversation_id                created_at  \\\n",
       "2944733  1167947540399939584  1167940127273828352 2019-08-31 23:49:27+00:00   \n",
       "343302   1167947674261147651  1167833288515309569 2019-08-31 23:49:59+00:00   \n",
       "2944767  1167948608995393536  1167848901489176577 2019-08-31 23:53:42+00:00   \n",
       "341598   1167949238497501185  1167576458379825153 2019-08-31 23:56:12+00:00   \n",
       "342282   1167950192160604160  1167458952268963841 2019-08-31 23:59:59+00:00   \n",
       "\n",
       "                                                   replies  \n",
       "2944733  Look on the networks who is Mr. Soros!? He is ...  \n",
       "343302   yes i was explaining this conceptually to some...  \n",
       "2944767  They only have ideas to oppose and confront an...  \n",
       "341598   you are doing the right thing this is by far t...  \n",
       "342282   people can not remove bias from their opinions...  "
      ]
     },
     "execution_count": 13,
     "metadata": {},
     "output_type": "execute_result"
    }
   ],
   "source": [
    "replies_aug_2019.tail()"
   ]
  },
  {
   "cell_type": "code",
   "execution_count": 14,
   "metadata": {},
   "outputs": [],
   "source": [
    "tweet_ids = replies_aug_2019['conversation_id'].unique()"
   ]
  },
  {
   "cell_type": "code",
   "execution_count": 15,
   "metadata": {},
   "outputs": [
    {
     "data": {
      "text/plain": [
       "11105"
      ]
     },
     "execution_count": 15,
     "metadata": {},
     "output_type": "execute_result"
    }
   ],
   "source": [
    "len(tweet_ids)"
   ]
  },
  {
   "cell_type": "code",
   "execution_count": 16,
   "metadata": {},
   "outputs": [],
   "source": [
    "def extract_tweet_id(filename):\n",
    "    match = re.search(r'txt_(\\d+)_', filename)\n",
    "    return match.group(1) if match else None"
   ]
  },
  {
   "cell_type": "code",
   "execution_count": 17,
   "metadata": {},
   "outputs": [],
   "source": [
    "tweet_texts = {}\n",
    "tweets_directory = '/work/ptyagi/ClimateVisions/Tweet_Text/2019/08_August'\n",
    "extracted_tweet_ids = []\n",
    "\n",
    "for filename in os.listdir(tweets_directory):\n",
    "    tweet_id = extract_tweet_id(filename)\n",
    "    \n",
    "    if tweet_id:\n",
    "        extracted_tweet_ids.append(int(tweet_id))\n",
    "        file_path = os.path.join(tweets_directory, filename)\n",
    "        if os.path.exists(file_path):\n",
    "            with open(file_path, 'r') as file:\n",
    "                tweet_texts[int(tweet_id)] = file.read()"
   ]
  },
  {
   "cell_type": "code",
   "execution_count": 18,
   "metadata": {},
   "outputs": [
    {
     "data": {
      "text/plain": [
       "57330"
      ]
     },
     "execution_count": 18,
     "metadata": {},
     "output_type": "execute_result"
    }
   ],
   "source": [
    "len(extracted_tweet_ids)"
   ]
  },
  {
   "cell_type": "code",
   "execution_count": 19,
   "metadata": {},
   "outputs": [
    {
     "data": {
      "text/plain": [
       "57330"
      ]
     },
     "execution_count": 19,
     "metadata": {},
     "output_type": "execute_result"
    }
   ],
   "source": [
    "len(tweet_texts)"
   ]
  },
  {
   "cell_type": "code",
   "execution_count": 20,
   "metadata": {},
   "outputs": [
    {
     "name": "stdout",
     "output_type": "stream",
     "text": [
      "Number of files: 57330\n"
     ]
    }
   ],
   "source": [
    "directory = '/work/ptyagi/ClimateVisions/Tweet_Text/2019/08_August'\n",
    "file_count = sum(len(files) for _, _, files in os.walk(directory))\n",
    "\n",
    "print(f\"Number of files: {file_count}\")"
   ]
  },
  {
   "cell_type": "code",
   "execution_count": 21,
   "metadata": {},
   "outputs": [],
   "source": [
    "tweet_replies_aug_2019 = replies_aug_2019.copy()"
   ]
  },
  {
   "cell_type": "code",
   "execution_count": 22,
   "metadata": {},
   "outputs": [],
   "source": [
    "tweet_replies_aug_2019['tweet_text'] = replies_aug_2019['conversation_id'].map(tweet_texts)\n"
   ]
  },
  {
   "cell_type": "code",
   "execution_count": 23,
   "metadata": {},
   "outputs": [
    {
     "data": {
      "text/html": [
       "<div>\n",
       "<style scoped>\n",
       "    .dataframe tbody tr th:only-of-type {\n",
       "        vertical-align: middle;\n",
       "    }\n",
       "\n",
       "    .dataframe tbody tr th {\n",
       "        vertical-align: top;\n",
       "    }\n",
       "\n",
       "    .dataframe thead th {\n",
       "        text-align: right;\n",
       "    }\n",
       "</style>\n",
       "<table border=\"1\" class=\"dataframe\">\n",
       "  <thead>\n",
       "    <tr style=\"text-align: right;\">\n",
       "      <th></th>\n",
       "      <th>id</th>\n",
       "      <th>conversation_id</th>\n",
       "      <th>created_at</th>\n",
       "      <th>replies</th>\n",
       "      <th>tweet_text</th>\n",
       "    </tr>\n",
       "  </thead>\n",
       "  <tbody>\n",
       "    <tr>\n",
       "      <th>293133</th>\n",
       "      <td>1156716497592639493</td>\n",
       "      <td>1156715487503536128</td>\n",
       "      <td>2019-08-01 00:01:18+00:00</td>\n",
       "      <td>yes</td>\n",
       "      <td>NaN</td>\n",
       "    </tr>\n",
       "    <tr>\n",
       "      <th>293132</th>\n",
       "      <td>1156716596775260161</td>\n",
       "      <td>1156715487503536128</td>\n",
       "      <td>2019-08-01 00:01:42+00:00</td>\n",
       "      <td>yes</td>\n",
       "      <td>NaN</td>\n",
       "    </tr>\n",
       "    <tr>\n",
       "      <th>293810</th>\n",
       "      <td>1156717206648098817</td>\n",
       "      <td>1156521373419921408</td>\n",
       "      <td>2019-08-01 00:04:07+00:00</td>\n",
       "      <td>oat and soy for me</td>\n",
       "      <td>NaN</td>\n",
       "    </tr>\n",
       "    <tr>\n",
       "      <th>293131</th>\n",
       "      <td>1156717326743425029</td>\n",
       "      <td>1156715487503536128</td>\n",
       "      <td>2019-08-01 00:04:36+00:00</td>\n",
       "      <td>i bet not one candidate understands what the c...</td>\n",
       "      <td>NaN</td>\n",
       "    </tr>\n",
       "    <tr>\n",
       "      <th>2935339</th>\n",
       "      <td>1156717403419660288</td>\n",
       "      <td>1156270691181826049</td>\n",
       "      <td>2019-08-01 00:04:54+00:00</td>\n",
       "      <td>That yes, yes... that what happened six decade...</td>\n",
       "      <td>NaN</td>\n",
       "    </tr>\n",
       "    <tr>\n",
       "      <th>...</th>\n",
       "      <td>...</td>\n",
       "      <td>...</td>\n",
       "      <td>...</td>\n",
       "      <td>...</td>\n",
       "      <td>...</td>\n",
       "    </tr>\n",
       "    <tr>\n",
       "      <th>2944733</th>\n",
       "      <td>1167947540399939584</td>\n",
       "      <td>1167940127273828352</td>\n",
       "      <td>2019-08-31 23:49:27+00:00</td>\n",
       "      <td>Look on the networks who is Mr. Soros!? He is ...</td>\n",
       "      <td>NaN</td>\n",
       "    </tr>\n",
       "    <tr>\n",
       "      <th>343302</th>\n",
       "      <td>1167947674261147651</td>\n",
       "      <td>1167833288515309569</td>\n",
       "      <td>2019-08-31 23:49:59+00:00</td>\n",
       "      <td>yes i was explaining this conceptually to some...</td>\n",
       "      <td>Don’t understand why someone would buy a car a...</td>\n",
       "    </tr>\n",
       "    <tr>\n",
       "      <th>2944767</th>\n",
       "      <td>1167948608995393536</td>\n",
       "      <td>1167848901489176577</td>\n",
       "      <td>2019-08-31 23:53:42+00:00</td>\n",
       "      <td>They only have ideas to oppose and confront an...</td>\n",
       "      <td>NaN</td>\n",
       "    </tr>\n",
       "    <tr>\n",
       "      <th>341598</th>\n",
       "      <td>1167949238497501185</td>\n",
       "      <td>1167576458379825153</td>\n",
       "      <td>2019-08-31 23:56:12+00:00</td>\n",
       "      <td>you are doing the right thing this is by far t...</td>\n",
       "      <td>🇺🇦Ukraine,Lone #ClimateStrike in Kharkiv, at C...</td>\n",
       "    </tr>\n",
       "    <tr>\n",
       "      <th>342282</th>\n",
       "      <td>1167950192160604160</td>\n",
       "      <td>1167458952268963841</td>\n",
       "      <td>2019-08-31 23:59:59+00:00</td>\n",
       "      <td>people can not remove bias from their opinions...</td>\n",
       "      <td>How will history judge those who challenge the...</td>\n",
       "    </tr>\n",
       "  </tbody>\n",
       "</table>\n",
       "<p>74908 rows × 5 columns</p>\n",
       "</div>"
      ],
      "text/plain": [
       "                          id      conversation_id                created_at  \\\n",
       "293133   1156716497592639493  1156715487503536128 2019-08-01 00:01:18+00:00   \n",
       "293132   1156716596775260161  1156715487503536128 2019-08-01 00:01:42+00:00   \n",
       "293810   1156717206648098817  1156521373419921408 2019-08-01 00:04:07+00:00   \n",
       "293131   1156717326743425029  1156715487503536128 2019-08-01 00:04:36+00:00   \n",
       "2935339  1156717403419660288  1156270691181826049 2019-08-01 00:04:54+00:00   \n",
       "...                      ...                  ...                       ...   \n",
       "2944733  1167947540399939584  1167940127273828352 2019-08-31 23:49:27+00:00   \n",
       "343302   1167947674261147651  1167833288515309569 2019-08-31 23:49:59+00:00   \n",
       "2944767  1167948608995393536  1167848901489176577 2019-08-31 23:53:42+00:00   \n",
       "341598   1167949238497501185  1167576458379825153 2019-08-31 23:56:12+00:00   \n",
       "342282   1167950192160604160  1167458952268963841 2019-08-31 23:59:59+00:00   \n",
       "\n",
       "                                                   replies  \\\n",
       "293133                                                 yes   \n",
       "293132                                                 yes   \n",
       "293810                                  oat and soy for me   \n",
       "293131   i bet not one candidate understands what the c...   \n",
       "2935339  That yes, yes... that what happened six decade...   \n",
       "...                                                    ...   \n",
       "2944733  Look on the networks who is Mr. Soros!? He is ...   \n",
       "343302   yes i was explaining this conceptually to some...   \n",
       "2944767  They only have ideas to oppose and confront an...   \n",
       "341598   you are doing the right thing this is by far t...   \n",
       "342282   people can not remove bias from their opinions...   \n",
       "\n",
       "                                                tweet_text  \n",
       "293133                                                 NaN  \n",
       "293132                                                 NaN  \n",
       "293810                                                 NaN  \n",
       "293131                                                 NaN  \n",
       "2935339                                                NaN  \n",
       "...                                                    ...  \n",
       "2944733                                                NaN  \n",
       "343302   Don’t understand why someone would buy a car a...  \n",
       "2944767                                                NaN  \n",
       "341598   🇺🇦Ukraine,Lone #ClimateStrike in Kharkiv, at C...  \n",
       "342282   How will history judge those who challenge the...  \n",
       "\n",
       "[74908 rows x 5 columns]"
      ]
     },
     "execution_count": 23,
     "metadata": {},
     "output_type": "execute_result"
    }
   ],
   "source": [
    "tweet_replies_aug_2019"
   ]
  },
  {
   "cell_type": "code",
   "execution_count": 24,
   "metadata": {},
   "outputs": [
    {
     "name": "stdout",
     "output_type": "stream",
     "text": [
      "Number of NaN values in tweet text: 21669\n"
     ]
    }
   ],
   "source": [
    "nan_count = tweet_replies_aug_2019['tweet_text'].isna().sum()\n",
    "\n",
    "print(f\"Number of NaN values in tweet text: {nan_count}\")"
   ]
  },
  {
   "cell_type": "code",
   "execution_count": 25,
   "metadata": {},
   "outputs": [],
   "source": [
    "tweet_replies_aug_2019.dropna(subset=['tweet_text', 'replies'], inplace=True)"
   ]
  },
  {
   "cell_type": "code",
   "execution_count": 26,
   "metadata": {},
   "outputs": [
    {
     "data": {
      "text/plain": [
       "7769"
      ]
     },
     "execution_count": 26,
     "metadata": {},
     "output_type": "execute_result"
    }
   ],
   "source": [
    "len(tweet_replies_aug_2019['conversation_id'].unique())"
   ]
  },
  {
   "cell_type": "code",
   "execution_count": 27,
   "metadata": {},
   "outputs": [
    {
     "data": {
      "text/html": [
       "<div>\n",
       "<style scoped>\n",
       "    .dataframe tbody tr th:only-of-type {\n",
       "        vertical-align: middle;\n",
       "    }\n",
       "\n",
       "    .dataframe tbody tr th {\n",
       "        vertical-align: top;\n",
       "    }\n",
       "\n",
       "    .dataframe thead th {\n",
       "        text-align: right;\n",
       "    }\n",
       "</style>\n",
       "<table border=\"1\" class=\"dataframe\">\n",
       "  <thead>\n",
       "    <tr style=\"text-align: right;\">\n",
       "      <th></th>\n",
       "      <th>id</th>\n",
       "      <th>conversation_id</th>\n",
       "      <th>created_at</th>\n",
       "      <th>replies</th>\n",
       "      <th>tweet_text</th>\n",
       "    </tr>\n",
       "  </thead>\n",
       "  <tbody>\n",
       "    <tr>\n",
       "      <th>296464</th>\n",
       "      <td>1156746119180902400</td>\n",
       "      <td>1156745986548670465</td>\n",
       "      <td>2019-08-01 01:59:00+00:00</td>\n",
       "      <td>oh my god it totally was</td>\n",
       "      <td>Quote of the night? Gillibrand gets laughs say...</td>\n",
       "    </tr>\n",
       "    <tr>\n",
       "      <th>296463</th>\n",
       "      <td>1156746144963280896</td>\n",
       "      <td>1156745986548670465</td>\n",
       "      <td>2019-08-01 01:59:06+00:00</td>\n",
       "      <td>before or after she does her hair</td>\n",
       "      <td>Quote of the night? Gillibrand gets laughs say...</td>\n",
       "    </tr>\n",
       "    <tr>\n",
       "      <th>296462</th>\n",
       "      <td>1156746151435149312</td>\n",
       "      <td>1156745986548670465</td>\n",
       "      <td>2019-08-01 01:59:08+00:00</td>\n",
       "      <td>we did that</td>\n",
       "      <td>Quote of the night? Gillibrand gets laughs say...</td>\n",
       "    </tr>\n",
       "    <tr>\n",
       "      <th>296461</th>\n",
       "      <td>1156746252362510337</td>\n",
       "      <td>1156745986548670465</td>\n",
       "      <td>2019-08-01 01:59:32+00:00</td>\n",
       "      <td>try exorcism</td>\n",
       "      <td>Quote of the night? Gillibrand gets laughs say...</td>\n",
       "    </tr>\n",
       "    <tr>\n",
       "      <th>296460</th>\n",
       "      <td>1156746475994529797</td>\n",
       "      <td>1156745986548670465</td>\n",
       "      <td>2019-08-01 02:00:25+00:00</td>\n",
       "      <td>i am very unsurprised that the times would lik...</td>\n",
       "      <td>Quote of the night? Gillibrand gets laughs say...</td>\n",
       "    </tr>\n",
       "  </tbody>\n",
       "</table>\n",
       "</div>"
      ],
      "text/plain": [
       "                         id      conversation_id                created_at  \\\n",
       "296464  1156746119180902400  1156745986548670465 2019-08-01 01:59:00+00:00   \n",
       "296463  1156746144963280896  1156745986548670465 2019-08-01 01:59:06+00:00   \n",
       "296462  1156746151435149312  1156745986548670465 2019-08-01 01:59:08+00:00   \n",
       "296461  1156746252362510337  1156745986548670465 2019-08-01 01:59:32+00:00   \n",
       "296460  1156746475994529797  1156745986548670465 2019-08-01 02:00:25+00:00   \n",
       "\n",
       "                                                  replies  \\\n",
       "296464                           oh my god it totally was   \n",
       "296463                  before or after she does her hair   \n",
       "296462                                        we did that   \n",
       "296461                                       try exorcism   \n",
       "296460  i am very unsurprised that the times would lik...   \n",
       "\n",
       "                                               tweet_text  \n",
       "296464  Quote of the night? Gillibrand gets laughs say...  \n",
       "296463  Quote of the night? Gillibrand gets laughs say...  \n",
       "296462  Quote of the night? Gillibrand gets laughs say...  \n",
       "296461  Quote of the night? Gillibrand gets laughs say...  \n",
       "296460  Quote of the night? Gillibrand gets laughs say...  "
      ]
     },
     "execution_count": 27,
     "metadata": {},
     "output_type": "execute_result"
    }
   ],
   "source": [
    "tweet_replies_aug_2019.head()"
   ]
  },
  {
   "cell_type": "code",
   "execution_count": 28,
   "metadata": {},
   "outputs": [
    {
     "name": "stdout",
     "output_type": "stream",
     "text": [
      "<class 'pandas.core.frame.DataFrame'>\n",
      "Index: 53152 entries, 296464 to 342282\n",
      "Data columns (total 5 columns):\n",
      " #   Column           Non-Null Count  Dtype              \n",
      "---  ------           --------------  -----              \n",
      " 0   id               53152 non-null  int64              \n",
      " 1   conversation_id  53152 non-null  int64              \n",
      " 2   created_at       53152 non-null  datetime64[ns, UTC]\n",
      " 3   replies          53152 non-null  object             \n",
      " 4   tweet_text       53152 non-null  object             \n",
      "dtypes: datetime64[ns, UTC](1), int64(2), object(2)\n",
      "memory usage: 2.4+ MB\n"
     ]
    }
   ],
   "source": [
    "tweet_replies_aug_2019.info()"
   ]
  },
  {
   "cell_type": "code",
   "execution_count": 29,
   "metadata": {},
   "outputs": [],
   "source": [
    "tweet_replies_aug_2019['tweet_text'] = tweet_replies_aug_2019['tweet_text'].apply(lambda x: re.sub(r'http\\S+|www\\S+|https\\S+', '[URL]', x, flags=re.MULTILINE))\n",
    "tweet_replies_aug_2019['tweet_text'] = tweet_replies_aug_2019['tweet_text'].apply(lambda x: re.sub(r'@\\w+', '[USER]', x))\n"
   ]
  },
  {
   "cell_type": "code",
   "execution_count": 30,
   "metadata": {},
   "outputs": [],
   "source": [
    "tweet_replies_aug_2019['replies'] = tweet_replies_aug_2019['replies'].apply(lambda x: re.sub(r'http\\S+|www\\S+|https\\S+', '[URL]', x, flags=re.MULTILINE))\n",
    "tweet_replies_aug_2019['replies'] = tweet_replies_aug_2019['replies'].apply(lambda x: re.sub(r'@\\w+', '[USER]', x))"
   ]
  },
  {
   "cell_type": "code",
   "execution_count": null,
   "metadata": {},
   "outputs": [
    {
     "data": {
      "text/plain": [
       "['In addition to the considerable amounts of electricity that are already being exported abroad, new gas-fired power plants in Germany have been shut down because the operators prefer to keep dirty lignite-fired power plants running.',\n",
       " 'For future e-cars, charging stations in company car parks are ideal, where the cars can be charged with solar energy during the day between the start of work and the end of the day.']"
      ]
     },
     "execution_count": 38,
     "metadata": {},
     "output_type": "execute_result"
    }
   ],
   "source": [
    "tweet_replies_aug_2019.query(\"conversation_id == 1092171401648369665\")['replies'].to_list()"
   ]
  },
  {
   "cell_type": "code",
   "execution_count": null,
   "metadata": {},
   "outputs": [
    {
     "data": {
      "text/plain": [
       "['Also. Frage an die #Grünsozialisten. Wenn 2018 D Netto Stromexporteur war und jetzt von 2020-2030 sowohl #Kohle als Kernstrom Weg fällt, woher beziehen wir dann den Strom für den obligatorischen #Tesla ?#Klimawandel #climatechange #climatestrike #FridaysForFuture [URL]',\n",
       " 'Also. Frage an die #Grünsozialisten. Wenn 2018 D Netto Stromexporteur war und jetzt von 2020-2030 sowohl #Kohle als Kernstrom Weg fällt, woher beziehen wir dann den Strom für den obligatorischen #Tesla ?#Klimawandel #climatechange #climatestrike #FridaysForFuture [URL]']"
      ]
     },
     "execution_count": 39,
     "metadata": {},
     "output_type": "execute_result"
    }
   ],
   "source": [
    "tweet_replies_aug_2019.query(\"conversation_id == 1092171401648369665\")['tweet_text'].to_list()"
   ]
  },
  {
   "cell_type": "code",
   "execution_count": 33,
   "metadata": {},
   "outputs": [],
   "source": [
    "tweet_replies_aug_2019.to_csv('/work/ptyagi/masterthesis/data/tmp/tweet_replies_aug_2019.csv', index=False)"
   ]
  },
  {
   "cell_type": "code",
   "execution_count": 37,
   "metadata": {},
   "outputs": [],
   "source": [
    "classifier = pipeline(\"text-classification\", model=\"papluca/xlm-roberta-base-language-detection\", device=7)"
   ]
  },
  {
   "cell_type": "code",
   "execution_count": 38,
   "metadata": {},
   "outputs": [],
   "source": [
    "predictions = classifier(tweet_replies_aug_2019['tweet_text'].tolist(), batch_size=8)"
   ]
  },
  {
   "cell_type": "code",
   "execution_count": 39,
   "metadata": {},
   "outputs": [
    {
     "data": {
      "text/plain": [
       "[{'label': 'en', 'score': 0.8360907435417175},\n",
       " {'label': 'en', 'score': 0.8360907435417175},\n",
       " {'label': 'en', 'score': 0.8360907435417175},\n",
       " {'label': 'en', 'score': 0.8360907435417175},\n",
       " {'label': 'en', 'score': 0.8360907435417175},\n",
       " {'label': 'en', 'score': 0.8360907435417175},\n",
       " {'label': 'en', 'score': 0.8360907435417175},\n",
       " {'label': 'en', 'score': 0.8360907435417175},\n",
       " {'label': 'en', 'score': 0.8360907435417175},\n",
       " {'label': 'en', 'score': 0.8360907435417175}]"
      ]
     },
     "execution_count": 39,
     "metadata": {},
     "output_type": "execute_result"
    }
   ],
   "source": [
    "predictions[:10] # type: ignore"
   ]
  },
  {
   "cell_type": "code",
   "execution_count": 40,
   "metadata": {},
   "outputs": [
    {
     "data": {
      "text/plain": [
       "[{'label': 'ru', 'score': 0.07305407524108887},\n",
       " {'label': 'ru', 'score': 0.07305407524108887},\n",
       " {'label': 'ru', 'score': 0.07305407524108887},\n",
       " {'label': 'nl', 'score': 0.07530135661363602},\n",
       " {'label': 'nl', 'score': 0.07530135661363602},\n",
       " {'label': 'nl', 'score': 0.07530135661363602},\n",
       " {'label': 'nl', 'score': 0.07530135661363602},\n",
       " {'label': 'nl', 'score': 0.07530135661363602},\n",
       " {'label': 'nl', 'score': 0.07530135661363602},\n",
       " {'label': 'nl', 'score': 0.0753013864159584}]"
      ]
     },
     "execution_count": 40,
     "metadata": {},
     "output_type": "execute_result"
    }
   ],
   "source": [
    "sorted(predictions, key=lambda x: x['score'])[:10] # type: ignore"
   ]
  },
  {
   "cell_type": "code",
   "execution_count": 41,
   "metadata": {},
   "outputs": [],
   "source": [
    "tweet_replies_aug_2019['tweet_lang'] = [pred['label'] for pred in predictions] # type: ignore\n",
    "tweet_replies_aug_2019['lang_confidence'] = [pred['score'] for pred in predictions] # type: ignore"
   ]
  },
  {
   "cell_type": "code",
   "execution_count": 42,
   "metadata": {},
   "outputs": [
    {
     "data": {
      "text/html": [
       "<div>\n",
       "<style scoped>\n",
       "    .dataframe tbody tr th:only-of-type {\n",
       "        vertical-align: middle;\n",
       "    }\n",
       "\n",
       "    .dataframe tbody tr th {\n",
       "        vertical-align: top;\n",
       "    }\n",
       "\n",
       "    .dataframe thead th {\n",
       "        text-align: right;\n",
       "    }\n",
       "</style>\n",
       "<table border=\"1\" class=\"dataframe\">\n",
       "  <thead>\n",
       "    <tr style=\"text-align: right;\">\n",
       "      <th></th>\n",
       "      <th>id</th>\n",
       "      <th>conversation_id</th>\n",
       "      <th>created_at</th>\n",
       "      <th>replies</th>\n",
       "      <th>tweet_text</th>\n",
       "      <th>tweet_lang</th>\n",
       "      <th>lang_confidence</th>\n",
       "    </tr>\n",
       "  </thead>\n",
       "  <tbody>\n",
       "    <tr>\n",
       "      <th>296464</th>\n",
       "      <td>1156746119180902400</td>\n",
       "      <td>1156745986548670465</td>\n",
       "      <td>2019-08-01 01:59:00+00:00</td>\n",
       "      <td>oh my god it totally was</td>\n",
       "      <td>Quote of the night? Gillibrand gets laughs say...</td>\n",
       "      <td>en</td>\n",
       "      <td>0.836091</td>\n",
       "    </tr>\n",
       "    <tr>\n",
       "      <th>296463</th>\n",
       "      <td>1156746144963280896</td>\n",
       "      <td>1156745986548670465</td>\n",
       "      <td>2019-08-01 01:59:06+00:00</td>\n",
       "      <td>before or after she does her hair</td>\n",
       "      <td>Quote of the night? Gillibrand gets laughs say...</td>\n",
       "      <td>en</td>\n",
       "      <td>0.836091</td>\n",
       "    </tr>\n",
       "    <tr>\n",
       "      <th>296462</th>\n",
       "      <td>1156746151435149312</td>\n",
       "      <td>1156745986548670465</td>\n",
       "      <td>2019-08-01 01:59:08+00:00</td>\n",
       "      <td>we did that</td>\n",
       "      <td>Quote of the night? Gillibrand gets laughs say...</td>\n",
       "      <td>en</td>\n",
       "      <td>0.836091</td>\n",
       "    </tr>\n",
       "    <tr>\n",
       "      <th>296461</th>\n",
       "      <td>1156746252362510337</td>\n",
       "      <td>1156745986548670465</td>\n",
       "      <td>2019-08-01 01:59:32+00:00</td>\n",
       "      <td>try exorcism</td>\n",
       "      <td>Quote of the night? Gillibrand gets laughs say...</td>\n",
       "      <td>en</td>\n",
       "      <td>0.836091</td>\n",
       "    </tr>\n",
       "    <tr>\n",
       "      <th>296460</th>\n",
       "      <td>1156746475994529797</td>\n",
       "      <td>1156745986548670465</td>\n",
       "      <td>2019-08-01 02:00:25+00:00</td>\n",
       "      <td>i am very unsurprised that the times would lik...</td>\n",
       "      <td>Quote of the night? Gillibrand gets laughs say...</td>\n",
       "      <td>en</td>\n",
       "      <td>0.836091</td>\n",
       "    </tr>\n",
       "  </tbody>\n",
       "</table>\n",
       "</div>"
      ],
      "text/plain": [
       "                         id      conversation_id                created_at  \\\n",
       "296464  1156746119180902400  1156745986548670465 2019-08-01 01:59:00+00:00   \n",
       "296463  1156746144963280896  1156745986548670465 2019-08-01 01:59:06+00:00   \n",
       "296462  1156746151435149312  1156745986548670465 2019-08-01 01:59:08+00:00   \n",
       "296461  1156746252362510337  1156745986548670465 2019-08-01 01:59:32+00:00   \n",
       "296460  1156746475994529797  1156745986548670465 2019-08-01 02:00:25+00:00   \n",
       "\n",
       "                                                  replies  \\\n",
       "296464                           oh my god it totally was   \n",
       "296463                  before or after she does her hair   \n",
       "296462                                        we did that   \n",
       "296461                                       try exorcism   \n",
       "296460  i am very unsurprised that the times would lik...   \n",
       "\n",
       "                                               tweet_text tweet_lang  \\\n",
       "296464  Quote of the night? Gillibrand gets laughs say...         en   \n",
       "296463  Quote of the night? Gillibrand gets laughs say...         en   \n",
       "296462  Quote of the night? Gillibrand gets laughs say...         en   \n",
       "296461  Quote of the night? Gillibrand gets laughs say...         en   \n",
       "296460  Quote of the night? Gillibrand gets laughs say...         en   \n",
       "\n",
       "        lang_confidence  \n",
       "296464         0.836091  \n",
       "296463         0.836091  \n",
       "296462         0.836091  \n",
       "296461         0.836091  \n",
       "296460         0.836091  "
      ]
     },
     "execution_count": 42,
     "metadata": {},
     "output_type": "execute_result"
    }
   ],
   "source": [
    "tweet_replies_aug_2019.head()"
   ]
  },
  {
   "cell_type": "code",
   "execution_count": 43,
   "metadata": {},
   "outputs": [],
   "source": [
    "tweet_replies_aug_2019_en = tweet_replies_aug_2019.query(\"tweet_lang == 'en'\").copy()"
   ]
  },
  {
   "cell_type": "code",
   "execution_count": 44,
   "metadata": {},
   "outputs": [],
   "source": [
    "tweet_replies_aug_2019_en.dropna(subset='replies', inplace=True)"
   ]
  },
  {
   "cell_type": "code",
   "execution_count": 45,
   "metadata": {},
   "outputs": [],
   "source": [
    "tweet_replies_aug_2019_en.to_csv('/work/ptyagi/masterthesis/data/tmp/tweet_replies_aug_2019_en.csv', index=False)"
   ]
  },
  {
   "cell_type": "code",
   "execution_count": 46,
   "metadata": {},
   "outputs": [
    {
     "data": {
      "text/html": [
       "<div>\n",
       "<style scoped>\n",
       "    .dataframe tbody tr th:only-of-type {\n",
       "        vertical-align: middle;\n",
       "    }\n",
       "\n",
       "    .dataframe tbody tr th {\n",
       "        vertical-align: top;\n",
       "    }\n",
       "\n",
       "    .dataframe thead th {\n",
       "        text-align: right;\n",
       "    }\n",
       "</style>\n",
       "<table border=\"1\" class=\"dataframe\">\n",
       "  <thead>\n",
       "    <tr style=\"text-align: right;\">\n",
       "      <th></th>\n",
       "      <th>id</th>\n",
       "      <th>conversation_id</th>\n",
       "      <th>created_at</th>\n",
       "      <th>replies</th>\n",
       "      <th>tweet_text</th>\n",
       "      <th>tweet_lang</th>\n",
       "      <th>lang_confidence</th>\n",
       "    </tr>\n",
       "  </thead>\n",
       "  <tbody>\n",
       "    <tr>\n",
       "      <th>296464</th>\n",
       "      <td>1156746119180902400</td>\n",
       "      <td>1156745986548670465</td>\n",
       "      <td>2019-08-01 01:59:00+00:00</td>\n",
       "      <td>oh my god it totally was</td>\n",
       "      <td>Quote of the night? Gillibrand gets laughs say...</td>\n",
       "      <td>en</td>\n",
       "      <td>0.836091</td>\n",
       "    </tr>\n",
       "    <tr>\n",
       "      <th>296463</th>\n",
       "      <td>1156746144963280896</td>\n",
       "      <td>1156745986548670465</td>\n",
       "      <td>2019-08-01 01:59:06+00:00</td>\n",
       "      <td>before or after she does her hair</td>\n",
       "      <td>Quote of the night? Gillibrand gets laughs say...</td>\n",
       "      <td>en</td>\n",
       "      <td>0.836091</td>\n",
       "    </tr>\n",
       "    <tr>\n",
       "      <th>296462</th>\n",
       "      <td>1156746151435149312</td>\n",
       "      <td>1156745986548670465</td>\n",
       "      <td>2019-08-01 01:59:08+00:00</td>\n",
       "      <td>we did that</td>\n",
       "      <td>Quote of the night? Gillibrand gets laughs say...</td>\n",
       "      <td>en</td>\n",
       "      <td>0.836091</td>\n",
       "    </tr>\n",
       "    <tr>\n",
       "      <th>296461</th>\n",
       "      <td>1156746252362510337</td>\n",
       "      <td>1156745986548670465</td>\n",
       "      <td>2019-08-01 01:59:32+00:00</td>\n",
       "      <td>try exorcism</td>\n",
       "      <td>Quote of the night? Gillibrand gets laughs say...</td>\n",
       "      <td>en</td>\n",
       "      <td>0.836091</td>\n",
       "    </tr>\n",
       "    <tr>\n",
       "      <th>296460</th>\n",
       "      <td>1156746475994529797</td>\n",
       "      <td>1156745986548670465</td>\n",
       "      <td>2019-08-01 02:00:25+00:00</td>\n",
       "      <td>i am very unsurprised that the times would lik...</td>\n",
       "      <td>Quote of the night? Gillibrand gets laughs say...</td>\n",
       "      <td>en</td>\n",
       "      <td>0.836091</td>\n",
       "    </tr>\n",
       "    <tr>\n",
       "      <th>...</th>\n",
       "      <td>...</td>\n",
       "      <td>...</td>\n",
       "      <td>...</td>\n",
       "      <td>...</td>\n",
       "      <td>...</td>\n",
       "      <td>...</td>\n",
       "      <td>...</td>\n",
       "    </tr>\n",
       "    <tr>\n",
       "      <th>343366</th>\n",
       "      <td>1167946521771307014</td>\n",
       "      <td>1167808357568323584</td>\n",
       "      <td>2019-08-31 23:45:24+00:00</td>\n",
       "      <td>i am no climate denier but i have plenty of co...</td>\n",
       "      <td>An argument I get from one #ClimateChange deni...</td>\n",
       "      <td>en</td>\n",
       "      <td>0.829527</td>\n",
       "    </tr>\n",
       "    <tr>\n",
       "      <th>341848</th>\n",
       "      <td>1167946714667372546</td>\n",
       "      <td>1167551088280686594</td>\n",
       "      <td>2019-08-31 23:46:10+00:00</td>\n",
       "      <td>thank you we love you</td>\n",
       "      <td>From affordable housing to reliable public tra...</td>\n",
       "      <td>en</td>\n",
       "      <td>0.887934</td>\n",
       "    </tr>\n",
       "    <tr>\n",
       "      <th>343302</th>\n",
       "      <td>1167947674261147651</td>\n",
       "      <td>1167833288515309569</td>\n",
       "      <td>2019-08-31 23:49:59+00:00</td>\n",
       "      <td>yes i was explaining this conceptually to some...</td>\n",
       "      <td>Don’t understand why someone would buy a car a...</td>\n",
       "      <td>en</td>\n",
       "      <td>0.856149</td>\n",
       "    </tr>\n",
       "    <tr>\n",
       "      <th>341598</th>\n",
       "      <td>1167949238497501185</td>\n",
       "      <td>1167576458379825153</td>\n",
       "      <td>2019-08-31 23:56:12+00:00</td>\n",
       "      <td>you are doing the right thing this is by far t...</td>\n",
       "      <td>🇺🇦Ukraine,Lone #ClimateStrike in Kharkiv, at C...</td>\n",
       "      <td>en</td>\n",
       "      <td>0.828081</td>\n",
       "    </tr>\n",
       "    <tr>\n",
       "      <th>342282</th>\n",
       "      <td>1167950192160604160</td>\n",
       "      <td>1167458952268963841</td>\n",
       "      <td>2019-08-31 23:59:59+00:00</td>\n",
       "      <td>people can not remove bias from their opinions...</td>\n",
       "      <td>How will history judge those who challenge the...</td>\n",
       "      <td>en</td>\n",
       "      <td>0.802345</td>\n",
       "    </tr>\n",
       "  </tbody>\n",
       "</table>\n",
       "<p>51147 rows × 7 columns</p>\n",
       "</div>"
      ],
      "text/plain": [
       "                         id      conversation_id                created_at  \\\n",
       "296464  1156746119180902400  1156745986548670465 2019-08-01 01:59:00+00:00   \n",
       "296463  1156746144963280896  1156745986548670465 2019-08-01 01:59:06+00:00   \n",
       "296462  1156746151435149312  1156745986548670465 2019-08-01 01:59:08+00:00   \n",
       "296461  1156746252362510337  1156745986548670465 2019-08-01 01:59:32+00:00   \n",
       "296460  1156746475994529797  1156745986548670465 2019-08-01 02:00:25+00:00   \n",
       "...                     ...                  ...                       ...   \n",
       "343366  1167946521771307014  1167808357568323584 2019-08-31 23:45:24+00:00   \n",
       "341848  1167946714667372546  1167551088280686594 2019-08-31 23:46:10+00:00   \n",
       "343302  1167947674261147651  1167833288515309569 2019-08-31 23:49:59+00:00   \n",
       "341598  1167949238497501185  1167576458379825153 2019-08-31 23:56:12+00:00   \n",
       "342282  1167950192160604160  1167458952268963841 2019-08-31 23:59:59+00:00   \n",
       "\n",
       "                                                  replies  \\\n",
       "296464                           oh my god it totally was   \n",
       "296463                  before or after she does her hair   \n",
       "296462                                        we did that   \n",
       "296461                                       try exorcism   \n",
       "296460  i am very unsurprised that the times would lik...   \n",
       "...                                                   ...   \n",
       "343366  i am no climate denier but i have plenty of co...   \n",
       "341848                              thank you we love you   \n",
       "343302  yes i was explaining this conceptually to some...   \n",
       "341598  you are doing the right thing this is by far t...   \n",
       "342282  people can not remove bias from their opinions...   \n",
       "\n",
       "                                               tweet_text tweet_lang  \\\n",
       "296464  Quote of the night? Gillibrand gets laughs say...         en   \n",
       "296463  Quote of the night? Gillibrand gets laughs say...         en   \n",
       "296462  Quote of the night? Gillibrand gets laughs say...         en   \n",
       "296461  Quote of the night? Gillibrand gets laughs say...         en   \n",
       "296460  Quote of the night? Gillibrand gets laughs say...         en   \n",
       "...                                                   ...        ...   \n",
       "343366  An argument I get from one #ClimateChange deni...         en   \n",
       "341848  From affordable housing to reliable public tra...         en   \n",
       "343302  Don’t understand why someone would buy a car a...         en   \n",
       "341598  🇺🇦Ukraine,Lone #ClimateStrike in Kharkiv, at C...         en   \n",
       "342282  How will history judge those who challenge the...         en   \n",
       "\n",
       "        lang_confidence  \n",
       "296464         0.836091  \n",
       "296463         0.836091  \n",
       "296462         0.836091  \n",
       "296461         0.836091  \n",
       "296460         0.836091  \n",
       "...                 ...  \n",
       "343366         0.829527  \n",
       "341848         0.887934  \n",
       "343302         0.856149  \n",
       "341598         0.828081  \n",
       "342282         0.802345  \n",
       "\n",
       "[51147 rows x 7 columns]"
      ]
     },
     "execution_count": 46,
     "metadata": {},
     "output_type": "execute_result"
    }
   ],
   "source": [
    "tweet_replies_aug_2019_en"
   ]
  },
  {
   "cell_type": "code",
   "execution_count": 47,
   "metadata": {},
   "outputs": [
    {
     "data": {
      "text/plain": [
       "7345"
      ]
     },
     "execution_count": 47,
     "metadata": {},
     "output_type": "execute_result"
    }
   ],
   "source": [
    "len(tweet_replies_aug_2019_en['conversation_id'].unique())"
   ]
  },
  {
   "cell_type": "code",
   "execution_count": null,
   "metadata": {},
   "outputs": [],
   "source": []
  }
 ],
 "metadata": {
  "kernelspec": {
   "display_name": "thesis_env",
   "language": "python",
   "name": "python3"
  },
  "language_info": {
   "codemirror_mode": {
    "name": "ipython",
    "version": 3
   },
   "file_extension": ".py",
   "mimetype": "text/x-python",
   "name": "python",
   "nbconvert_exporter": "python",
   "pygments_lexer": "ipython3",
   "version": "3.11.9"
  }
 },
 "nbformat": 4,
 "nbformat_minor": 0
}
