{
 "cells": [
  {
   "cell_type": "code",
   "execution_count": 1,
   "metadata": {
    "collapsed": true
   },
   "outputs": [
    {
     "name": "stderr",
     "output_type": "stream",
     "text": [
      "/home/ptyagi/miniconda3/envs/thesis_env/lib/python3.11/site-packages/tqdm/auto.py:21: TqdmWarning: IProgress not found. Please update jupyter and ipywidgets. See https://ipywidgets.readthedocs.io/en/stable/user_install.html\n",
      "  from .autonotebook import tqdm as notebook_tqdm\n"
     ]
    }
   ],
   "source": [
    "import pandas as pd\n",
    "import numpy as np\n",
    "import os\n",
    "from transformers import pipeline"
   ]
  },
  {
   "cell_type": "code",
   "execution_count": 2,
   "metadata": {},
   "outputs": [],
   "source": [
    "replies = pd.read_csv('/work/ptyagi/ClimateVisions/Tweet_Replies/Isaac_replies/replies_translated.csv')"
   ]
  },
  {
   "cell_type": "code",
   "execution_count": 3,
   "metadata": {},
   "outputs": [
    {
     "data": {
      "text/html": [
       "<div>\n",
       "<style scoped>\n",
       "    .dataframe tbody tr th:only-of-type {\n",
       "        vertical-align: middle;\n",
       "    }\n",
       "\n",
       "    .dataframe tbody tr th {\n",
       "        vertical-align: top;\n",
       "    }\n",
       "\n",
       "    .dataframe thead th {\n",
       "        text-align: right;\n",
       "    }\n",
       "</style>\n",
       "<table border=\"1\" class=\"dataframe\">\n",
       "  <thead>\n",
       "    <tr style=\"text-align: right;\">\n",
       "      <th></th>\n",
       "      <th>Unnamed: 0</th>\n",
       "      <th>id</th>\n",
       "      <th>conversation_id</th>\n",
       "      <th>created_at</th>\n",
       "      <th>text</th>\n",
       "    </tr>\n",
       "  </thead>\n",
       "  <tbody>\n",
       "    <tr>\n",
       "      <th>0</th>\n",
       "      <td>1</td>\n",
       "      <td>1120457284268756992</td>\n",
       "      <td>1120240313484959744</td>\n",
       "      <td>2019-04-22T22:40:08.000Z</td>\n",
       "      <td>exactly breaking the law this is what those wo...</td>\n",
       "    </tr>\n",
       "    <tr>\n",
       "      <th>1</th>\n",
       "      <td>2</td>\n",
       "      <td>1120263796952567808</td>\n",
       "      <td>1120240313484959744</td>\n",
       "      <td>2019-04-22T09:51:17.000Z</td>\n",
       "      <td>what is your comment</td>\n",
       "    </tr>\n",
       "    <tr>\n",
       "      <th>2</th>\n",
       "      <td>3</td>\n",
       "      <td>1120261379427115010</td>\n",
       "      <td>1120240313484959744</td>\n",
       "      <td>2019-04-22T09:41:40.000Z</td>\n",
       "      <td>in the end these are untalented lobbyists whos...</td>\n",
       "    </tr>\n",
       "    <tr>\n",
       "      <th>3</th>\n",
       "      <td>4</td>\n",
       "      <td>1120260145362214912</td>\n",
       "      <td>1120240313484959744</td>\n",
       "      <td>2019-04-22T09:36:46.000Z</td>\n",
       "      <td>who is going to believe this organisations thi...</td>\n",
       "    </tr>\n",
       "    <tr>\n",
       "      <th>4</th>\n",
       "      <td>5</td>\n",
       "      <td>1120258615678525440</td>\n",
       "      <td>1120240313484959744</td>\n",
       "      <td>2019-04-22T09:30:42.000Z</td>\n",
       "      <td>and i did give both amnety and hws statements ...</td>\n",
       "    </tr>\n",
       "  </tbody>\n",
       "</table>\n",
       "</div>"
      ],
      "text/plain": [
       "   Unnamed: 0                   id      conversation_id  \\\n",
       "0           1  1120457284268756992  1120240313484959744   \n",
       "1           2  1120263796952567808  1120240313484959744   \n",
       "2           3  1120261379427115010  1120240313484959744   \n",
       "3           4  1120260145362214912  1120240313484959744   \n",
       "4           5  1120258615678525440  1120240313484959744   \n",
       "\n",
       "                 created_at                                               text  \n",
       "0  2019-04-22T22:40:08.000Z  exactly breaking the law this is what those wo...  \n",
       "1  2019-04-22T09:51:17.000Z                               what is your comment  \n",
       "2  2019-04-22T09:41:40.000Z  in the end these are untalented lobbyists whos...  \n",
       "3  2019-04-22T09:36:46.000Z  who is going to believe this organisations thi...  \n",
       "4  2019-04-22T09:30:42.000Z  and i did give both amnety and hws statements ...  "
      ]
     },
     "execution_count": 3,
     "metadata": {},
     "output_type": "execute_result"
    }
   ],
   "source": [
    "replies.head()"
   ]
  },
  {
   "cell_type": "code",
   "execution_count": 4,
   "metadata": {},
   "outputs": [],
   "source": [
    "replies['created_at'] = pd.to_datetime(replies['created_at'])"
   ]
  },
  {
   "cell_type": "code",
   "execution_count": 5,
   "metadata": {},
   "outputs": [
    {
     "name": "stdout",
     "output_type": "stream",
     "text": [
      "<class 'pandas.core.frame.DataFrame'>\n",
      "RangeIndex: 3795245 entries, 0 to 3795244\n",
      "Data columns (total 5 columns):\n",
      " #   Column           Dtype              \n",
      "---  ------           -----              \n",
      " 0   Unnamed: 0       int64              \n",
      " 1   id               int64              \n",
      " 2   conversation_id  int64              \n",
      " 3   created_at       datetime64[ns, UTC]\n",
      " 4   text             object             \n",
      "dtypes: datetime64[ns, UTC](1), int64(3), object(1)\n",
      "memory usage: 144.8+ MB\n"
     ]
    }
   ],
   "source": [
    "replies.info()"
   ]
  },
  {
   "cell_type": "code",
   "execution_count": 6,
   "metadata": {},
   "outputs": [
    {
     "data": {
      "text/html": [
       "<div>\n",
       "<style scoped>\n",
       "    .dataframe tbody tr th:only-of-type {\n",
       "        vertical-align: middle;\n",
       "    }\n",
       "\n",
       "    .dataframe tbody tr th {\n",
       "        vertical-align: top;\n",
       "    }\n",
       "\n",
       "    .dataframe thead th {\n",
       "        text-align: right;\n",
       "    }\n",
       "</style>\n",
       "<table border=\"1\" class=\"dataframe\">\n",
       "  <thead>\n",
       "    <tr style=\"text-align: right;\">\n",
       "      <th></th>\n",
       "      <th>Unnamed: 0</th>\n",
       "      <th>id</th>\n",
       "      <th>conversation_id</th>\n",
       "      <th>created_at</th>\n",
       "      <th>text</th>\n",
       "    </tr>\n",
       "  </thead>\n",
       "  <tbody>\n",
       "    <tr>\n",
       "      <th>0</th>\n",
       "      <td>1</td>\n",
       "      <td>1120457284268756992</td>\n",
       "      <td>1120240313484959744</td>\n",
       "      <td>2019-04-22 22:40:08+00:00</td>\n",
       "      <td>exactly breaking the law this is what those wo...</td>\n",
       "    </tr>\n",
       "    <tr>\n",
       "      <th>1</th>\n",
       "      <td>2</td>\n",
       "      <td>1120263796952567808</td>\n",
       "      <td>1120240313484959744</td>\n",
       "      <td>2019-04-22 09:51:17+00:00</td>\n",
       "      <td>what is your comment</td>\n",
       "    </tr>\n",
       "    <tr>\n",
       "      <th>2</th>\n",
       "      <td>3</td>\n",
       "      <td>1120261379427115010</td>\n",
       "      <td>1120240313484959744</td>\n",
       "      <td>2019-04-22 09:41:40+00:00</td>\n",
       "      <td>in the end these are untalented lobbyists whos...</td>\n",
       "    </tr>\n",
       "    <tr>\n",
       "      <th>3</th>\n",
       "      <td>4</td>\n",
       "      <td>1120260145362214912</td>\n",
       "      <td>1120240313484959744</td>\n",
       "      <td>2019-04-22 09:36:46+00:00</td>\n",
       "      <td>who is going to believe this organisations thi...</td>\n",
       "    </tr>\n",
       "    <tr>\n",
       "      <th>4</th>\n",
       "      <td>5</td>\n",
       "      <td>1120258615678525440</td>\n",
       "      <td>1120240313484959744</td>\n",
       "      <td>2019-04-22 09:30:42+00:00</td>\n",
       "      <td>and i did give both amnety and hws statements ...</td>\n",
       "    </tr>\n",
       "  </tbody>\n",
       "</table>\n",
       "</div>"
      ],
      "text/plain": [
       "   Unnamed: 0                   id      conversation_id  \\\n",
       "0           1  1120457284268756992  1120240313484959744   \n",
       "1           2  1120263796952567808  1120240313484959744   \n",
       "2           3  1120261379427115010  1120240313484959744   \n",
       "3           4  1120260145362214912  1120240313484959744   \n",
       "4           5  1120258615678525440  1120240313484959744   \n",
       "\n",
       "                 created_at                                               text  \n",
       "0 2019-04-22 22:40:08+00:00  exactly breaking the law this is what those wo...  \n",
       "1 2019-04-22 09:51:17+00:00                               what is your comment  \n",
       "2 2019-04-22 09:41:40+00:00  in the end these are untalented lobbyists whos...  \n",
       "3 2019-04-22 09:36:46+00:00  who is going to believe this organisations thi...  \n",
       "4 2019-04-22 09:30:42+00:00  and i did give both amnety and hws statements ...  "
      ]
     },
     "execution_count": 6,
     "metadata": {},
     "output_type": "execute_result"
    }
   ],
   "source": [
    "replies.head()"
   ]
  },
  {
   "cell_type": "code",
   "execution_count": 7,
   "metadata": {},
   "outputs": [],
   "source": [
    "replies_feb_2019 = replies[(replies['created_at'].dt.month == 2) & (replies['created_at'].dt.year == 2019)].copy()"
   ]
  },
  {
   "cell_type": "code",
   "execution_count": 8,
   "metadata": {},
   "outputs": [],
   "source": [
    "replies_feb_2019.drop(columns='Unnamed: 0', inplace=True)"
   ]
  },
  {
   "cell_type": "code",
   "execution_count": 9,
   "metadata": {},
   "outputs": [
    {
     "name": "stdout",
     "output_type": "stream",
     "text": [
      "<class 'pandas.core.frame.DataFrame'>\n",
      "Index: 26961 entries, 36 to 3496374\n",
      "Data columns (total 4 columns):\n",
      " #   Column           Non-Null Count  Dtype              \n",
      "---  ------           --------------  -----              \n",
      " 0   id               26961 non-null  int64              \n",
      " 1   conversation_id  26961 non-null  int64              \n",
      " 2   created_at       26961 non-null  datetime64[ns, UTC]\n",
      " 3   text             26931 non-null  object             \n",
      "dtypes: datetime64[ns, UTC](1), int64(2), object(1)\n",
      "memory usage: 1.0+ MB\n"
     ]
    }
   ],
   "source": [
    "replies_feb_2019.info()"
   ]
  },
  {
   "cell_type": "code",
   "execution_count": 10,
   "metadata": {},
   "outputs": [],
   "source": [
    "replies_feb_2019.sort_values(by='created_at', ascending=True, inplace=True)"
   ]
  },
  {
   "cell_type": "code",
   "execution_count": 11,
   "metadata": {},
   "outputs": [
    {
     "data": {
      "text/html": [
       "<div>\n",
       "<style scoped>\n",
       "    .dataframe tbody tr th:only-of-type {\n",
       "        vertical-align: middle;\n",
       "    }\n",
       "\n",
       "    .dataframe tbody tr th {\n",
       "        vertical-align: top;\n",
       "    }\n",
       "\n",
       "    .dataframe thead th {\n",
       "        text-align: right;\n",
       "    }\n",
       "</style>\n",
       "<table border=\"1\" class=\"dataframe\">\n",
       "  <thead>\n",
       "    <tr style=\"text-align: right;\">\n",
       "      <th></th>\n",
       "      <th>id</th>\n",
       "      <th>conversation_id</th>\n",
       "      <th>created_at</th>\n",
       "      <th>text</th>\n",
       "    </tr>\n",
       "  </thead>\n",
       "  <tbody>\n",
       "    <tr>\n",
       "      <th>106617</th>\n",
       "      <td>1091124425456578562</td>\n",
       "      <td>1090610792259600384</td>\n",
       "      <td>2019-02-01 00:01:49+00:00</td>\n",
       "      <td>you did not travel there by plane</td>\n",
       "    </tr>\n",
       "    <tr>\n",
       "      <th>107817</th>\n",
       "      <td>1091124695829790720</td>\n",
       "      <td>1090922764586733571</td>\n",
       "      <td>2019-02-01 00:02:54+00:00</td>\n",
       "      <td>looks like this phenomenon has always happened...</td>\n",
       "    </tr>\n",
       "    <tr>\n",
       "      <th>107035</th>\n",
       "      <td>1091124765945819137</td>\n",
       "      <td>1091100637566099456</td>\n",
       "      <td>2019-02-01 00:03:10+00:00</td>\n",
       "      <td>i took it for a drive nice car i am not a mass...</td>\n",
       "    </tr>\n",
       "    <tr>\n",
       "      <th>3492757</th>\n",
       "      <td>1091124830257274880</td>\n",
       "      <td>1090869895598915584</td>\n",
       "      <td>2019-02-01 00:03:26+00:00</td>\n",
       "      <td>Venn diagram:</td>\n",
       "    </tr>\n",
       "    <tr>\n",
       "      <th>3492637</th>\n",
       "      <td>1091125087212777473</td>\n",
       "      <td>1091100637566099456</td>\n",
       "      <td>2019-02-01 00:04:27+00:00</td>\n",
       "      <td>Nee gethu Pannu AOC!</td>\n",
       "    </tr>\n",
       "  </tbody>\n",
       "</table>\n",
       "</div>"
      ],
      "text/plain": [
       "                          id      conversation_id                created_at  \\\n",
       "106617   1091124425456578562  1090610792259600384 2019-02-01 00:01:49+00:00   \n",
       "107817   1091124695829790720  1090922764586733571 2019-02-01 00:02:54+00:00   \n",
       "107035   1091124765945819137  1091100637566099456 2019-02-01 00:03:10+00:00   \n",
       "3492757  1091124830257274880  1090869895598915584 2019-02-01 00:03:26+00:00   \n",
       "3492637  1091125087212777473  1091100637566099456 2019-02-01 00:04:27+00:00   \n",
       "\n",
       "                                                      text  \n",
       "106617                   you did not travel there by plane  \n",
       "107817   looks like this phenomenon has always happened...  \n",
       "107035   i took it for a drive nice car i am not a mass...  \n",
       "3492757                                      Venn diagram:  \n",
       "3492637                               Nee gethu Pannu AOC!  "
      ]
     },
     "execution_count": 11,
     "metadata": {},
     "output_type": "execute_result"
    }
   ],
   "source": [
    "replies_feb_2019.head()"
   ]
  },
  {
   "cell_type": "code",
   "execution_count": 12,
   "metadata": {},
   "outputs": [
    {
     "data": {
      "text/html": [
       "<div>\n",
       "<style scoped>\n",
       "    .dataframe tbody tr th:only-of-type {\n",
       "        vertical-align: middle;\n",
       "    }\n",
       "\n",
       "    .dataframe tbody tr th {\n",
       "        vertical-align: top;\n",
       "    }\n",
       "\n",
       "    .dataframe thead th {\n",
       "        text-align: right;\n",
       "    }\n",
       "</style>\n",
       "<table border=\"1\" class=\"dataframe\">\n",
       "  <thead>\n",
       "    <tr style=\"text-align: right;\">\n",
       "      <th></th>\n",
       "      <th>id</th>\n",
       "      <th>conversation_id</th>\n",
       "      <th>created_at</th>\n",
       "      <th>text</th>\n",
       "    </tr>\n",
       "  </thead>\n",
       "  <tbody>\n",
       "    <tr>\n",
       "      <th>3495643</th>\n",
       "      <td>1101270493754208259</td>\n",
       "      <td>1100155040839487489</td>\n",
       "      <td>2019-02-28 23:58:40+00:00</td>\n",
       "      <td>U dumb fucktard</td>\n",
       "    </tr>\n",
       "    <tr>\n",
       "      <th>136715</th>\n",
       "      <td>1101270588180582402</td>\n",
       "      <td>1101265867353018368</td>\n",
       "      <td>2019-02-28 23:59:03+00:00</td>\n",
       "      <td>shriver unaware we are already importing much ...</td>\n",
       "    </tr>\n",
       "    <tr>\n",
       "      <th>131281</th>\n",
       "      <td>1101270664588288000</td>\n",
       "      <td>1098626225201922049</td>\n",
       "      <td>2019-02-28 23:59:21+00:00</td>\n",
       "      <td>keep laptops amp all wireless fa away from u a...</td>\n",
       "    </tr>\n",
       "    <tr>\n",
       "      <th>136870</th>\n",
       "      <td>1101270692002217984</td>\n",
       "      <td>1101215748305944576</td>\n",
       "      <td>2019-02-28 23:59:28+00:00</td>\n",
       "      <td>actually it makes you more easy to dismiss kee...</td>\n",
       "    </tr>\n",
       "    <tr>\n",
       "      <th>137278</th>\n",
       "      <td>1101270726844264448</td>\n",
       "      <td>1101176583912599552</td>\n",
       "      <td>2019-02-28 23:59:36+00:00</td>\n",
       "      <td>thank you priya now i just have to write it</td>\n",
       "    </tr>\n",
       "  </tbody>\n",
       "</table>\n",
       "</div>"
      ],
      "text/plain": [
       "                          id      conversation_id                created_at  \\\n",
       "3495643  1101270493754208259  1100155040839487489 2019-02-28 23:58:40+00:00   \n",
       "136715   1101270588180582402  1101265867353018368 2019-02-28 23:59:03+00:00   \n",
       "131281   1101270664588288000  1098626225201922049 2019-02-28 23:59:21+00:00   \n",
       "136870   1101270692002217984  1101215748305944576 2019-02-28 23:59:28+00:00   \n",
       "137278   1101270726844264448  1101176583912599552 2019-02-28 23:59:36+00:00   \n",
       "\n",
       "                                                      text  \n",
       "3495643                                    U dumb fucktard  \n",
       "136715   shriver unaware we are already importing much ...  \n",
       "131281   keep laptops amp all wireless fa away from u a...  \n",
       "136870   actually it makes you more easy to dismiss kee...  \n",
       "137278         thank you priya now i just have to write it  "
      ]
     },
     "execution_count": 12,
     "metadata": {},
     "output_type": "execute_result"
    }
   ],
   "source": [
    "replies_feb_2019.tail()"
   ]
  },
  {
   "cell_type": "code",
   "execution_count": 13,
   "metadata": {},
   "outputs": [],
   "source": [
    "tweet_ids = replies_feb_2019['conversation_id'].unique()"
   ]
  },
  {
   "cell_type": "code",
   "execution_count": 14,
   "metadata": {},
   "outputs": [
    {
     "data": {
      "text/plain": [
       "4094"
      ]
     },
     "execution_count": 14,
     "metadata": {},
     "output_type": "execute_result"
    }
   ],
   "source": [
    "len(tweet_ids)"
   ]
  },
  {
   "cell_type": "code",
   "execution_count": 15,
   "metadata": {},
   "outputs": [],
   "source": [
    "import re\n",
    "\n",
    "def extract_tweet_id(filename):\n",
    "    match = re.search(r'txt_(\\d+)_', filename)\n",
    "    return match.group(1) if match else None"
   ]
  },
  {
   "cell_type": "code",
   "execution_count": 16,
   "metadata": {},
   "outputs": [],
   "source": [
    "tweet_texts = {}\n",
    "tweets_directory = '/work/ptyagi/ClimateVisions/Tweet_Text/2019/02_February'\n",
    "extracted_tweet_ids = []\n",
    "\n",
    "for filename in os.listdir(tweets_directory):\n",
    "    tweet_id = extract_tweet_id(filename)\n",
    "    \n",
    "    if tweet_id:\n",
    "        extracted_tweet_ids.append(int(tweet_id))\n",
    "        file_path = os.path.join(tweets_directory, filename)\n",
    "        if os.path.exists(file_path):\n",
    "            with open(file_path, 'r') as file:\n",
    "                tweet_texts[int(tweet_id)] = file.read()"
   ]
  },
  {
   "cell_type": "code",
   "execution_count": 17,
   "metadata": {},
   "outputs": [
    {
     "data": {
      "text/plain": [
       "57973"
      ]
     },
     "execution_count": 17,
     "metadata": {},
     "output_type": "execute_result"
    }
   ],
   "source": [
    "len(extracted_tweet_ids)"
   ]
  },
  {
   "cell_type": "code",
   "execution_count": 18,
   "metadata": {},
   "outputs": [],
   "source": [
    "tweet_replies_feb_2019 = replies_feb_2019.copy()"
   ]
  },
  {
   "cell_type": "code",
   "execution_count": 19,
   "metadata": {},
   "outputs": [],
   "source": [
    "tweet_replies_feb_2019['tweet_text'] = replies_feb_2019['conversation_id'].map(tweet_texts)\n"
   ]
  },
  {
   "cell_type": "code",
   "execution_count": 20,
   "metadata": {},
   "outputs": [
    {
     "data": {
      "text/html": [
       "<div>\n",
       "<style scoped>\n",
       "    .dataframe tbody tr th:only-of-type {\n",
       "        vertical-align: middle;\n",
       "    }\n",
       "\n",
       "    .dataframe tbody tr th {\n",
       "        vertical-align: top;\n",
       "    }\n",
       "\n",
       "    .dataframe thead th {\n",
       "        text-align: right;\n",
       "    }\n",
       "</style>\n",
       "<table border=\"1\" class=\"dataframe\">\n",
       "  <thead>\n",
       "    <tr style=\"text-align: right;\">\n",
       "      <th></th>\n",
       "      <th>id</th>\n",
       "      <th>conversation_id</th>\n",
       "      <th>created_at</th>\n",
       "      <th>text</th>\n",
       "      <th>tweet_text</th>\n",
       "    </tr>\n",
       "  </thead>\n",
       "  <tbody>\n",
       "    <tr>\n",
       "      <th>106617</th>\n",
       "      <td>1091124425456578562</td>\n",
       "      <td>1090610792259600384</td>\n",
       "      <td>2019-02-01 00:01:49+00:00</td>\n",
       "      <td>you did not travel there by plane</td>\n",
       "      <td>NaN</td>\n",
       "    </tr>\n",
       "    <tr>\n",
       "      <th>107817</th>\n",
       "      <td>1091124695829790720</td>\n",
       "      <td>1090922764586733571</td>\n",
       "      <td>2019-02-01 00:02:54+00:00</td>\n",
       "      <td>looks like this phenomenon has always happened...</td>\n",
       "      <td>NaN</td>\n",
       "    </tr>\n",
       "    <tr>\n",
       "      <th>107035</th>\n",
       "      <td>1091124765945819137</td>\n",
       "      <td>1091100637566099456</td>\n",
       "      <td>2019-02-01 00:03:10+00:00</td>\n",
       "      <td>i took it for a drive nice car i am not a mass...</td>\n",
       "      <td>NaN</td>\n",
       "    </tr>\n",
       "    <tr>\n",
       "      <th>3492757</th>\n",
       "      <td>1091124830257274880</td>\n",
       "      <td>1090869895598915584</td>\n",
       "      <td>2019-02-01 00:03:26+00:00</td>\n",
       "      <td>Venn diagram:</td>\n",
       "      <td>NaN</td>\n",
       "    </tr>\n",
       "    <tr>\n",
       "      <th>3492637</th>\n",
       "      <td>1091125087212777473</td>\n",
       "      <td>1091100637566099456</td>\n",
       "      <td>2019-02-01 00:04:27+00:00</td>\n",
       "      <td>Nee gethu Pannu AOC!</td>\n",
       "      <td>NaN</td>\n",
       "    </tr>\n",
       "    <tr>\n",
       "      <th>...</th>\n",
       "      <td>...</td>\n",
       "      <td>...</td>\n",
       "      <td>...</td>\n",
       "      <td>...</td>\n",
       "      <td>...</td>\n",
       "    </tr>\n",
       "    <tr>\n",
       "      <th>3495643</th>\n",
       "      <td>1101270493754208259</td>\n",
       "      <td>1100155040839487489</td>\n",
       "      <td>2019-02-28 23:58:40+00:00</td>\n",
       "      <td>U dumb fucktard</td>\n",
       "      <td>BREAKING NEWS: Greta Thunberg wird uns bei uns...</td>\n",
       "    </tr>\n",
       "    <tr>\n",
       "      <th>136715</th>\n",
       "      <td>1101270588180582402</td>\n",
       "      <td>1101265867353018368</td>\n",
       "      <td>2019-02-28 23:59:03+00:00</td>\n",
       "      <td>shriver unaware we are already importing much ...</td>\n",
       "      <td>Time for some climate change chat #bbcqt https...</td>\n",
       "    </tr>\n",
       "    <tr>\n",
       "      <th>131281</th>\n",
       "      <td>1101270664588288000</td>\n",
       "      <td>1098626225201922049</td>\n",
       "      <td>2019-02-28 23:59:21+00:00</td>\n",
       "      <td>keep laptops amp all wireless fa away from u a...</td>\n",
       "      <td>Join me and climate kitty for a @reddit AMA on...</td>\n",
       "    </tr>\n",
       "    <tr>\n",
       "      <th>136870</th>\n",
       "      <td>1101270692002217984</td>\n",
       "      <td>1101215748305944576</td>\n",
       "      <td>2019-02-28 23:59:28+00:00</td>\n",
       "      <td>actually it makes you more easy to dismiss kee...</td>\n",
       "      <td>For an embarrassingly long time, Dems used “sc...</td>\n",
       "    </tr>\n",
       "    <tr>\n",
       "      <th>137278</th>\n",
       "      <td>1101270726844264448</td>\n",
       "      <td>1101176583912599552</td>\n",
       "      <td>2019-02-28 23:59:36+00:00</td>\n",
       "      <td>thank you priya now i just have to write it</td>\n",
       "      <td>Exciting/terrifying update: writing a book wit...</td>\n",
       "    </tr>\n",
       "  </tbody>\n",
       "</table>\n",
       "<p>26961 rows × 5 columns</p>\n",
       "</div>"
      ],
      "text/plain": [
       "                          id      conversation_id                created_at  \\\n",
       "106617   1091124425456578562  1090610792259600384 2019-02-01 00:01:49+00:00   \n",
       "107817   1091124695829790720  1090922764586733571 2019-02-01 00:02:54+00:00   \n",
       "107035   1091124765945819137  1091100637566099456 2019-02-01 00:03:10+00:00   \n",
       "3492757  1091124830257274880  1090869895598915584 2019-02-01 00:03:26+00:00   \n",
       "3492637  1091125087212777473  1091100637566099456 2019-02-01 00:04:27+00:00   \n",
       "...                      ...                  ...                       ...   \n",
       "3495643  1101270493754208259  1100155040839487489 2019-02-28 23:58:40+00:00   \n",
       "136715   1101270588180582402  1101265867353018368 2019-02-28 23:59:03+00:00   \n",
       "131281   1101270664588288000  1098626225201922049 2019-02-28 23:59:21+00:00   \n",
       "136870   1101270692002217984  1101215748305944576 2019-02-28 23:59:28+00:00   \n",
       "137278   1101270726844264448  1101176583912599552 2019-02-28 23:59:36+00:00   \n",
       "\n",
       "                                                      text  \\\n",
       "106617                   you did not travel there by plane   \n",
       "107817   looks like this phenomenon has always happened...   \n",
       "107035   i took it for a drive nice car i am not a mass...   \n",
       "3492757                                      Venn diagram:   \n",
       "3492637                               Nee gethu Pannu AOC!   \n",
       "...                                                    ...   \n",
       "3495643                                    U dumb fucktard   \n",
       "136715   shriver unaware we are already importing much ...   \n",
       "131281   keep laptops amp all wireless fa away from u a...   \n",
       "136870   actually it makes you more easy to dismiss kee...   \n",
       "137278         thank you priya now i just have to write it   \n",
       "\n",
       "                                                tweet_text  \n",
       "106617                                                 NaN  \n",
       "107817                                                 NaN  \n",
       "107035                                                 NaN  \n",
       "3492757                                                NaN  \n",
       "3492637                                                NaN  \n",
       "...                                                    ...  \n",
       "3495643  BREAKING NEWS: Greta Thunberg wird uns bei uns...  \n",
       "136715   Time for some climate change chat #bbcqt https...  \n",
       "131281   Join me and climate kitty for a @reddit AMA on...  \n",
       "136870   For an embarrassingly long time, Dems used “sc...  \n",
       "137278   Exciting/terrifying update: writing a book wit...  \n",
       "\n",
       "[26961 rows x 5 columns]"
      ]
     },
     "execution_count": 20,
     "metadata": {},
     "output_type": "execute_result"
    }
   ],
   "source": [
    "tweet_replies_feb_2019"
   ]
  },
  {
   "cell_type": "code",
   "execution_count": 21,
   "metadata": {},
   "outputs": [
    {
     "data": {
      "text/plain": [
       "False"
      ]
     },
     "execution_count": 21,
     "metadata": {},
     "output_type": "execute_result"
    }
   ],
   "source": [
    "1090610792259600384 in extracted_tweet_ids"
   ]
  },
  {
   "cell_type": "code",
   "execution_count": 22,
   "metadata": {},
   "outputs": [],
   "source": [
    "tweet_replies_feb_2019.dropna(subset='tweet_text', inplace=True)"
   ]
  },
  {
   "cell_type": "code",
   "execution_count": 23,
   "metadata": {},
   "outputs": [
    {
     "data": {
      "text/plain": [
       "1776"
      ]
     },
     "execution_count": 23,
     "metadata": {},
     "output_type": "execute_result"
    }
   ],
   "source": [
    "len(tweet_replies_feb_2019['conversation_id'].unique())"
   ]
  },
  {
   "cell_type": "code",
   "execution_count": 24,
   "metadata": {},
   "outputs": [
    {
     "data": {
      "text/html": [
       "<div>\n",
       "<style scoped>\n",
       "    .dataframe tbody tr th:only-of-type {\n",
       "        vertical-align: middle;\n",
       "    }\n",
       "\n",
       "    .dataframe tbody tr th {\n",
       "        vertical-align: top;\n",
       "    }\n",
       "\n",
       "    .dataframe thead th {\n",
       "        text-align: right;\n",
       "    }\n",
       "</style>\n",
       "<table border=\"1\" class=\"dataframe\">\n",
       "  <thead>\n",
       "    <tr style=\"text-align: right;\">\n",
       "      <th></th>\n",
       "      <th>id</th>\n",
       "      <th>conversation_id</th>\n",
       "      <th>created_at</th>\n",
       "      <th>text</th>\n",
       "      <th>tweet_text</th>\n",
       "    </tr>\n",
       "  </thead>\n",
       "  <tbody>\n",
       "    <tr>\n",
       "      <th>2897336</th>\n",
       "      <td>1091463512109563904</td>\n",
       "      <td>1091461450076430336</td>\n",
       "      <td>2019-02-01 22:29:14+00:00</td>\n",
       "      <td>Climate is a cultural issue, says an expert. I...</td>\n",
       "      <td>Piola. Como las mamás: Antes los veranos en Sa...</td>\n",
       "    </tr>\n",
       "    <tr>\n",
       "      <th>3494624</th>\n",
       "      <td>1091717834860826624</td>\n",
       "      <td>1091717129995542528</td>\n",
       "      <td>2019-02-02 15:19:49+00:00</td>\n",
       "      <td>Go Trump!!</td>\n",
       "      <td>Energy Insider: Exploring the impact of winter...</td>\n",
       "    </tr>\n",
       "    <tr>\n",
       "      <th>2673599</th>\n",
       "      <td>1092175359326539781</td>\n",
       "      <td>1092171401648369665</td>\n",
       "      <td>2019-02-03 21:37:51+00:00</td>\n",
       "      <td>In addition to the considerable amounts of ele...</td>\n",
       "      <td>Also. Frage an die #Grünsozialisten. Wenn 2018...</td>\n",
       "    </tr>\n",
       "    <tr>\n",
       "      <th>2673598</th>\n",
       "      <td>1092175661656141824</td>\n",
       "      <td>1092171401648369665</td>\n",
       "      <td>2019-02-03 21:39:04+00:00</td>\n",
       "      <td>For future e-cars, charging stations in compan...</td>\n",
       "      <td>Also. Frage an die #Grünsozialisten. Wenn 2018...</td>\n",
       "    </tr>\n",
       "    <tr>\n",
       "      <th>2897754</th>\n",
       "      <td>1092518025574731778</td>\n",
       "      <td>1092116835330416645</td>\n",
       "      <td>2019-02-04 20:19:29+00:00</td>\n",
       "      <td>Many people who go to the forest of Aragon do ...</td>\n",
       "      <td>¿How can the wetlands fight the climate change...</td>\n",
       "    </tr>\n",
       "  </tbody>\n",
       "</table>\n",
       "</div>"
      ],
      "text/plain": [
       "                          id      conversation_id                created_at  \\\n",
       "2897336  1091463512109563904  1091461450076430336 2019-02-01 22:29:14+00:00   \n",
       "3494624  1091717834860826624  1091717129995542528 2019-02-02 15:19:49+00:00   \n",
       "2673599  1092175359326539781  1092171401648369665 2019-02-03 21:37:51+00:00   \n",
       "2673598  1092175661656141824  1092171401648369665 2019-02-03 21:39:04+00:00   \n",
       "2897754  1092518025574731778  1092116835330416645 2019-02-04 20:19:29+00:00   \n",
       "\n",
       "                                                      text  \\\n",
       "2897336  Climate is a cultural issue, says an expert. I...   \n",
       "3494624                                         Go Trump!!   \n",
       "2673599  In addition to the considerable amounts of ele...   \n",
       "2673598  For future e-cars, charging stations in compan...   \n",
       "2897754  Many people who go to the forest of Aragon do ...   \n",
       "\n",
       "                                                tweet_text  \n",
       "2897336  Piola. Como las mamás: Antes los veranos en Sa...  \n",
       "3494624  Energy Insider: Exploring the impact of winter...  \n",
       "2673599  Also. Frage an die #Grünsozialisten. Wenn 2018...  \n",
       "2673598  Also. Frage an die #Grünsozialisten. Wenn 2018...  \n",
       "2897754  ¿How can the wetlands fight the climate change...  "
      ]
     },
     "execution_count": 24,
     "metadata": {},
     "output_type": "execute_result"
    }
   ],
   "source": [
    "tweet_replies_feb_2019.head()"
   ]
  },
  {
   "cell_type": "code",
   "execution_count": 25,
   "metadata": {},
   "outputs": [
    {
     "data": {
      "text/plain": [
       "['In addition to the considerable amounts of electricity that are already being exported abroad, new gas-fired power plants in Germany have been shut down because the operators prefer to keep dirty lignite-fired power plants running.',\n",
       " 'For future e-cars, charging stations in company car parks are ideal, where the cars can be charged with solar energy during the day between the start of work and the end of the day.']"
      ]
     },
     "execution_count": 25,
     "metadata": {},
     "output_type": "execute_result"
    }
   ],
   "source": [
    "tweet_replies_feb_2019.query(\"conversation_id == 1092171401648369665\")['text'].to_list()"
   ]
  },
  {
   "cell_type": "code",
   "execution_count": 26,
   "metadata": {},
   "outputs": [
    {
     "data": {
      "text/plain": [
       "['Also. Frage an die #Grünsozialisten. Wenn 2018 D Netto Stromexporteur war und jetzt von 2020-2030 sowohl #Kohle als Kernstrom Weg fällt, woher beziehen wir dann den Strom für den obligatorischen #Tesla ?#Klimawandel #climatechange #climatestrike #FridaysForFuture https://t.co/DLwKWmD1pl',\n",
       " 'Also. Frage an die #Grünsozialisten. Wenn 2018 D Netto Stromexporteur war und jetzt von 2020-2030 sowohl #Kohle als Kernstrom Weg fällt, woher beziehen wir dann den Strom für den obligatorischen #Tesla ?#Klimawandel #climatechange #climatestrike #FridaysForFuture https://t.co/DLwKWmD1pl']"
      ]
     },
     "execution_count": 26,
     "metadata": {},
     "output_type": "execute_result"
    }
   ],
   "source": [
    "tweet_replies_feb_2019.query(\"conversation_id == 1092171401648369665\")['tweet_text'].to_list()"
   ]
  },
  {
   "cell_type": "code",
   "execution_count": 27,
   "metadata": {},
   "outputs": [],
   "source": [
    "tweet_replies_feb_2019.to_csv('/work/ptyagi/masterthesis/tmp/tweet_replies_feb_2019.csv')"
   ]
  },
  {
   "cell_type": "code",
   "execution_count": 28,
   "metadata": {},
   "outputs": [
    {
     "name": "stderr",
     "output_type": "stream",
     "text": [
      "/home/ptyagi/miniconda3/envs/thesis_env/lib/python3.11/site-packages/transformers/tokenization_utils_base.py:1601: FutureWarning: `clean_up_tokenization_spaces` was not set. It will be set to `True` by default. This behavior will be depracted in transformers v4.45, and will be then set to `False` by default. For more details check this issue: https://github.com/huggingface/transformers/issues/31884\n",
      "  warnings.warn(\n"
     ]
    }
   ],
   "source": [
    "classifier = pipeline(\"text-classification\", model=\"papluca/xlm-roberta-base-language-detection\", device=2)"
   ]
  },
  {
   "cell_type": "code",
   "execution_count": 29,
   "metadata": {},
   "outputs": [],
   "source": [
    "predictions = classifier(tweet_replies_feb_2019['tweet_text'].tolist(), batch_size=8)"
   ]
  },
  {
   "cell_type": "code",
   "execution_count": 41,
   "metadata": {},
   "outputs": [
    {
     "data": {
      "text/plain": [
       "[{'label': 'es', 'score': 0.9931243062019348},\n",
       " {'label': 'en', 'score': 0.7797765135765076},\n",
       " {'label': 'de', 'score': 0.9951056241989136},\n",
       " {'label': 'de', 'score': 0.9951056241989136},\n",
       " {'label': 'es', 'score': 0.9915847778320312}]"
      ]
     },
     "execution_count": 41,
     "metadata": {},
     "output_type": "execute_result"
    }
   ],
   "source": [
    "predictions[:5] # type: ignore"
   ]
  },
  {
   "cell_type": "code",
   "execution_count": 43,
   "metadata": {},
   "outputs": [
    {
     "data": {
      "text/plain": [
       "[{'label': 'nl', 'score': 0.10599808394908905},\n",
       " {'label': 'nl', 'score': 0.10765262693166733},\n",
       " {'label': 'nl', 'score': 0.10765262693166733},\n",
       " {'label': 'nl', 'score': 0.10896977037191391},\n",
       " {'label': 'nl', 'score': 0.10896977037191391},\n",
       " {'label': 'nl', 'score': 0.10896977037191391},\n",
       " {'label': 'nl', 'score': 0.10896977037191391},\n",
       " {'label': 'nl', 'score': 0.10896983742713928},\n",
       " {'label': 'nl', 'score': 0.10896983742713928},\n",
       " {'label': 'nl', 'score': 0.10896983742713928}]"
      ]
     },
     "execution_count": 43,
     "metadata": {},
     "output_type": "execute_result"
    }
   ],
   "source": [
    "sorted(predictions, key=lambda x: x['score'])[:10] # type: ignore"
   ]
  },
  {
   "cell_type": "code",
   "execution_count": 44,
   "metadata": {},
   "outputs": [],
   "source": [
    "tweet_replies_feb_2019['tweet_lang'] = [pred['label'] for pred in predictions] # type: ignore\n",
    "tweet_replies_feb_2019['lang_confidence'] = [pred['score'] for pred in predictions] # type: ignore"
   ]
  },
  {
   "cell_type": "code",
   "execution_count": 49,
   "metadata": {},
   "outputs": [
    {
     "data": {
      "text/html": [
       "<div>\n",
       "<style scoped>\n",
       "    .dataframe tbody tr th:only-of-type {\n",
       "        vertical-align: middle;\n",
       "    }\n",
       "\n",
       "    .dataframe tbody tr th {\n",
       "        vertical-align: top;\n",
       "    }\n",
       "\n",
       "    .dataframe thead th {\n",
       "        text-align: right;\n",
       "    }\n",
       "</style>\n",
       "<table border=\"1\" class=\"dataframe\">\n",
       "  <thead>\n",
       "    <tr style=\"text-align: right;\">\n",
       "      <th></th>\n",
       "      <th>id</th>\n",
       "      <th>conversation_id</th>\n",
       "      <th>created_at</th>\n",
       "      <th>text</th>\n",
       "      <th>tweet_text</th>\n",
       "      <th>tweet_lang</th>\n",
       "      <th>lang_confidence</th>\n",
       "    </tr>\n",
       "  </thead>\n",
       "  <tbody>\n",
       "    <tr>\n",
       "      <th>2897336</th>\n",
       "      <td>1091463512109563904</td>\n",
       "      <td>1091461450076430336</td>\n",
       "      <td>2019-02-01 22:29:14+00:00</td>\n",
       "      <td>Climate is a cultural issue, says an expert. I...</td>\n",
       "      <td>Piola. Como las mamás: Antes los veranos en Sa...</td>\n",
       "      <td>es</td>\n",
       "      <td>0.993124</td>\n",
       "    </tr>\n",
       "    <tr>\n",
       "      <th>3494624</th>\n",
       "      <td>1091717834860826624</td>\n",
       "      <td>1091717129995542528</td>\n",
       "      <td>2019-02-02 15:19:49+00:00</td>\n",
       "      <td>Go Trump!!</td>\n",
       "      <td>Energy Insider: Exploring the impact of winter...</td>\n",
       "      <td>en</td>\n",
       "      <td>0.779777</td>\n",
       "    </tr>\n",
       "    <tr>\n",
       "      <th>2673599</th>\n",
       "      <td>1092175359326539781</td>\n",
       "      <td>1092171401648369665</td>\n",
       "      <td>2019-02-03 21:37:51+00:00</td>\n",
       "      <td>In addition to the considerable amounts of ele...</td>\n",
       "      <td>Also. Frage an die #Grünsozialisten. Wenn 2018...</td>\n",
       "      <td>de</td>\n",
       "      <td>0.995106</td>\n",
       "    </tr>\n",
       "    <tr>\n",
       "      <th>2673598</th>\n",
       "      <td>1092175661656141824</td>\n",
       "      <td>1092171401648369665</td>\n",
       "      <td>2019-02-03 21:39:04+00:00</td>\n",
       "      <td>For future e-cars, charging stations in compan...</td>\n",
       "      <td>Also. Frage an die #Grünsozialisten. Wenn 2018...</td>\n",
       "      <td>de</td>\n",
       "      <td>0.995106</td>\n",
       "    </tr>\n",
       "    <tr>\n",
       "      <th>2897754</th>\n",
       "      <td>1092518025574731778</td>\n",
       "      <td>1092116835330416645</td>\n",
       "      <td>2019-02-04 20:19:29+00:00</td>\n",
       "      <td>Many people who go to the forest of Aragon do ...</td>\n",
       "      <td>¿How can the wetlands fight the climate change...</td>\n",
       "      <td>es</td>\n",
       "      <td>0.991585</td>\n",
       "    </tr>\n",
       "  </tbody>\n",
       "</table>\n",
       "</div>"
      ],
      "text/plain": [
       "                          id      conversation_id                created_at  \\\n",
       "2897336  1091463512109563904  1091461450076430336 2019-02-01 22:29:14+00:00   \n",
       "3494624  1091717834860826624  1091717129995542528 2019-02-02 15:19:49+00:00   \n",
       "2673599  1092175359326539781  1092171401648369665 2019-02-03 21:37:51+00:00   \n",
       "2673598  1092175661656141824  1092171401648369665 2019-02-03 21:39:04+00:00   \n",
       "2897754  1092518025574731778  1092116835330416645 2019-02-04 20:19:29+00:00   \n",
       "\n",
       "                                                      text  \\\n",
       "2897336  Climate is a cultural issue, says an expert. I...   \n",
       "3494624                                         Go Trump!!   \n",
       "2673599  In addition to the considerable amounts of ele...   \n",
       "2673598  For future e-cars, charging stations in compan...   \n",
       "2897754  Many people who go to the forest of Aragon do ...   \n",
       "\n",
       "                                                tweet_text tweet_lang  \\\n",
       "2897336  Piola. Como las mamás: Antes los veranos en Sa...         es   \n",
       "3494624  Energy Insider: Exploring the impact of winter...         en   \n",
       "2673599  Also. Frage an die #Grünsozialisten. Wenn 2018...         de   \n",
       "2673598  Also. Frage an die #Grünsozialisten. Wenn 2018...         de   \n",
       "2897754  ¿How can the wetlands fight the climate change...         es   \n",
       "\n",
       "         lang_confidence  \n",
       "2897336         0.993124  \n",
       "3494624         0.779777  \n",
       "2673599         0.995106  \n",
       "2673598         0.995106  \n",
       "2897754         0.991585  "
      ]
     },
     "execution_count": 49,
     "metadata": {},
     "output_type": "execute_result"
    }
   ],
   "source": [
    "tweet_replies_feb_2019.head()"
   ]
  },
  {
   "cell_type": "code",
   "execution_count": 56,
   "metadata": {},
   "outputs": [],
   "source": [
    "tweet_replies_feb_2019_en = tweet_replies_feb_2019.query(\"tweet_lang == 'en'\").copy()"
   ]
  },
  {
   "cell_type": "code",
   "execution_count": 57,
   "metadata": {},
   "outputs": [],
   "source": [
    "tweet_replies_feb_2019_en.dropna(subset='text', inplace=True)"
   ]
  },
  {
   "cell_type": "code",
   "execution_count": 73,
   "metadata": {},
   "outputs": [],
   "source": [
    "tweet_replies_feb_2019_en.to_csv('/work/ptyagi/masterthesis/tmp/tweet_replies_feb_2019_en.csv')"
   ]
  },
  {
   "cell_type": "code",
   "execution_count": 59,
   "metadata": {},
   "outputs": [
    {
     "data": {
      "text/html": [
       "<div>\n",
       "<style scoped>\n",
       "    .dataframe tbody tr th:only-of-type {\n",
       "        vertical-align: middle;\n",
       "    }\n",
       "\n",
       "    .dataframe tbody tr th {\n",
       "        vertical-align: top;\n",
       "    }\n",
       "\n",
       "    .dataframe thead th {\n",
       "        text-align: right;\n",
       "    }\n",
       "</style>\n",
       "<table border=\"1\" class=\"dataframe\">\n",
       "  <thead>\n",
       "    <tr style=\"text-align: right;\">\n",
       "      <th></th>\n",
       "      <th>id</th>\n",
       "      <th>conversation_id</th>\n",
       "      <th>created_at</th>\n",
       "      <th>text</th>\n",
       "      <th>tweet_text</th>\n",
       "      <th>tweet_lang</th>\n",
       "      <th>lang_confidence</th>\n",
       "    </tr>\n",
       "  </thead>\n",
       "  <tbody>\n",
       "    <tr>\n",
       "      <th>3494624</th>\n",
       "      <td>1091717834860826624</td>\n",
       "      <td>1091717129995542528</td>\n",
       "      <td>2019-02-02 15:19:49+00:00</td>\n",
       "      <td>Go Trump!!</td>\n",
       "      <td>Energy Insider: Exploring the impact of winter...</td>\n",
       "      <td>en</td>\n",
       "      <td>0.779777</td>\n",
       "    </tr>\n",
       "    <tr>\n",
       "      <th>124683</th>\n",
       "      <td>1092776979567468546</td>\n",
       "      <td>1092776506106015746</td>\n",
       "      <td>2019-02-05 13:28:29+00:00</td>\n",
       "      <td>eat local and grow local the ecosystem is buil...</td>\n",
       "      <td>Given how what we eat (demand) determines what...</td>\n",
       "      <td>en</td>\n",
       "      <td>0.896970</td>\n",
       "    </tr>\n",
       "    <tr>\n",
       "      <th>3494625</th>\n",
       "      <td>1092835036037087232</td>\n",
       "      <td>1092784983998189568</td>\n",
       "      <td>2019-02-05 17:19:11+00:00</td>\n",
       "      <td>TUMP</td>\n",
       "      <td>New: @MediaLSE PhD candidate Rodrigo Muñoz-Gon...</td>\n",
       "      <td>en</td>\n",
       "      <td>0.890914</td>\n",
       "    </tr>\n",
       "    <tr>\n",
       "      <th>124685</th>\n",
       "      <td>1093139326496636928</td>\n",
       "      <td>1093132427810271233</td>\n",
       "      <td>2019-02-06 13:28:19+00:00</td>\n",
       "      <td>the sky is falling the sky in falling the corr...</td>\n",
       "      <td>See how Canada is addressing #ClimateChange th...</td>\n",
       "      <td>en</td>\n",
       "      <td>0.800252</td>\n",
       "    </tr>\n",
       "    <tr>\n",
       "      <th>124687</th>\n",
       "      <td>1094072089672175622</td>\n",
       "      <td>1094070997135822848</td>\n",
       "      <td>2019-02-09 03:14:47+00:00</td>\n",
       "      <td>you are beyond demented the utter presumptuous...</td>\n",
       "      <td>You can kiss your beer goodbye if climate chan...</td>\n",
       "      <td>en</td>\n",
       "      <td>0.872495</td>\n",
       "    </tr>\n",
       "    <tr>\n",
       "      <th>...</th>\n",
       "      <td>...</td>\n",
       "      <td>...</td>\n",
       "      <td>...</td>\n",
       "      <td>...</td>\n",
       "      <td>...</td>\n",
       "      <td>...</td>\n",
       "      <td>...</td>\n",
       "    </tr>\n",
       "    <tr>\n",
       "      <th>136871</th>\n",
       "      <td>1101270343597998080</td>\n",
       "      <td>1101215748305944576</td>\n",
       "      <td>2019-02-28 23:58:05+00:00</td>\n",
       "      <td>i do not see them moving over is there a repub...</td>\n",
       "      <td>For an embarrassingly long time, Dems used “sc...</td>\n",
       "      <td>en</td>\n",
       "      <td>0.891376</td>\n",
       "    </tr>\n",
       "    <tr>\n",
       "      <th>136715</th>\n",
       "      <td>1101270588180582402</td>\n",
       "      <td>1101265867353018368</td>\n",
       "      <td>2019-02-28 23:59:03+00:00</td>\n",
       "      <td>shriver unaware we are already importing much ...</td>\n",
       "      <td>Time for some climate change chat #bbcqt https...</td>\n",
       "      <td>en</td>\n",
       "      <td>0.425586</td>\n",
       "    </tr>\n",
       "    <tr>\n",
       "      <th>131281</th>\n",
       "      <td>1101270664588288000</td>\n",
       "      <td>1098626225201922049</td>\n",
       "      <td>2019-02-28 23:59:21+00:00</td>\n",
       "      <td>keep laptops amp all wireless fa away from u a...</td>\n",
       "      <td>Join me and climate kitty for a @reddit AMA on...</td>\n",
       "      <td>en</td>\n",
       "      <td>0.907689</td>\n",
       "    </tr>\n",
       "    <tr>\n",
       "      <th>136870</th>\n",
       "      <td>1101270692002217984</td>\n",
       "      <td>1101215748305944576</td>\n",
       "      <td>2019-02-28 23:59:28+00:00</td>\n",
       "      <td>actually it makes you more easy to dismiss kee...</td>\n",
       "      <td>For an embarrassingly long time, Dems used “sc...</td>\n",
       "      <td>en</td>\n",
       "      <td>0.891376</td>\n",
       "    </tr>\n",
       "    <tr>\n",
       "      <th>137278</th>\n",
       "      <td>1101270726844264448</td>\n",
       "      <td>1101176583912599552</td>\n",
       "      <td>2019-02-28 23:59:36+00:00</td>\n",
       "      <td>thank you priya now i just have to write it</td>\n",
       "      <td>Exciting/terrifying update: writing a book wit...</td>\n",
       "      <td>en</td>\n",
       "      <td>0.934284</td>\n",
       "    </tr>\n",
       "  </tbody>\n",
       "</table>\n",
       "<p>12462 rows × 7 columns</p>\n",
       "</div>"
      ],
      "text/plain": [
       "                          id      conversation_id                created_at  \\\n",
       "3494624  1091717834860826624  1091717129995542528 2019-02-02 15:19:49+00:00   \n",
       "124683   1092776979567468546  1092776506106015746 2019-02-05 13:28:29+00:00   \n",
       "3494625  1092835036037087232  1092784983998189568 2019-02-05 17:19:11+00:00   \n",
       "124685   1093139326496636928  1093132427810271233 2019-02-06 13:28:19+00:00   \n",
       "124687   1094072089672175622  1094070997135822848 2019-02-09 03:14:47+00:00   \n",
       "...                      ...                  ...                       ...   \n",
       "136871   1101270343597998080  1101215748305944576 2019-02-28 23:58:05+00:00   \n",
       "136715   1101270588180582402  1101265867353018368 2019-02-28 23:59:03+00:00   \n",
       "131281   1101270664588288000  1098626225201922049 2019-02-28 23:59:21+00:00   \n",
       "136870   1101270692002217984  1101215748305944576 2019-02-28 23:59:28+00:00   \n",
       "137278   1101270726844264448  1101176583912599552 2019-02-28 23:59:36+00:00   \n",
       "\n",
       "                                                      text  \\\n",
       "3494624                                         Go Trump!!   \n",
       "124683   eat local and grow local the ecosystem is buil...   \n",
       "3494625                                               TUMP   \n",
       "124685   the sky is falling the sky in falling the corr...   \n",
       "124687   you are beyond demented the utter presumptuous...   \n",
       "...                                                    ...   \n",
       "136871   i do not see them moving over is there a repub...   \n",
       "136715   shriver unaware we are already importing much ...   \n",
       "131281   keep laptops amp all wireless fa away from u a...   \n",
       "136870   actually it makes you more easy to dismiss kee...   \n",
       "137278         thank you priya now i just have to write it   \n",
       "\n",
       "                                                tweet_text tweet_lang  \\\n",
       "3494624  Energy Insider: Exploring the impact of winter...         en   \n",
       "124683   Given how what we eat (demand) determines what...         en   \n",
       "3494625  New: @MediaLSE PhD candidate Rodrigo Muñoz-Gon...         en   \n",
       "124685   See how Canada is addressing #ClimateChange th...         en   \n",
       "124687   You can kiss your beer goodbye if climate chan...         en   \n",
       "...                                                    ...        ...   \n",
       "136871   For an embarrassingly long time, Dems used “sc...         en   \n",
       "136715   Time for some climate change chat #bbcqt https...         en   \n",
       "131281   Join me and climate kitty for a @reddit AMA on...         en   \n",
       "136870   For an embarrassingly long time, Dems used “sc...         en   \n",
       "137278   Exciting/terrifying update: writing a book wit...         en   \n",
       "\n",
       "         lang_confidence  \n",
       "3494624         0.779777  \n",
       "124683          0.896970  \n",
       "3494625         0.890914  \n",
       "124685          0.800252  \n",
       "124687          0.872495  \n",
       "...                  ...  \n",
       "136871          0.891376  \n",
       "136715          0.425586  \n",
       "131281          0.907689  \n",
       "136870          0.891376  \n",
       "137278          0.934284  \n",
       "\n",
       "[12462 rows x 7 columns]"
      ]
     },
     "execution_count": 59,
     "metadata": {},
     "output_type": "execute_result"
    }
   ],
   "source": [
    "tweet_replies_feb_2019_en"
   ]
  },
  {
   "cell_type": "code",
   "execution_count": 50,
   "metadata": {},
   "outputs": [],
   "source": [
    "emotion_classifier = pipeline(\"text-classification\", model=\"cardiffnlp/twitter-roberta-base-emotion-latest\", device=2)"
   ]
  },
  {
   "cell_type": "code",
   "execution_count": 60,
   "metadata": {},
   "outputs": [],
   "source": [
    "emotion_predictions = emotion_classifier(tweet_replies_feb_2019_en['text'].tolist(), batch_size=8)"
   ]
  },
  {
   "cell_type": "code",
   "execution_count": 61,
   "metadata": {},
   "outputs": [
    {
     "data": {
      "text/plain": [
       "[{'label': 'anger', 'score': 0.9626848101615906},\n",
       " {'label': 'optimism', 'score': 0.9835257530212402},\n",
       " {'label': 'anger', 'score': 0.3523235321044922},\n",
       " {'label': 'optimism', 'score': 0.8389987945556641},\n",
       " {'label': 'anger', 'score': 0.9850420355796814}]"
      ]
     },
     "execution_count": 61,
     "metadata": {},
     "output_type": "execute_result"
    }
   ],
   "source": [
    "emotion_predictions[:5] # type: ignore"
   ]
  },
  {
   "cell_type": "code",
   "execution_count": 70,
   "metadata": {},
   "outputs": [],
   "source": [
    "tweet_replies_feb_2019_en['reply_emotion_xlm_base_emotion'] = [pred['label'] for pred in emotion_predictions] # type: ignore\n",
    "tweet_replies_feb_2019_en['emotion_confidence_xlm_base_emotion'] = [pred['score'] for pred in emotion_predictions] # type: ignore"
   ]
  },
  {
   "cell_type": "code",
   "execution_count": 71,
   "metadata": {},
   "outputs": [
    {
     "data": {
      "text/html": [
       "<div>\n",
       "<style scoped>\n",
       "    .dataframe tbody tr th:only-of-type {\n",
       "        vertical-align: middle;\n",
       "    }\n",
       "\n",
       "    .dataframe tbody tr th {\n",
       "        vertical-align: top;\n",
       "    }\n",
       "\n",
       "    .dataframe thead th {\n",
       "        text-align: right;\n",
       "    }\n",
       "</style>\n",
       "<table border=\"1\" class=\"dataframe\">\n",
       "  <thead>\n",
       "    <tr style=\"text-align: right;\">\n",
       "      <th></th>\n",
       "      <th>id</th>\n",
       "      <th>conversation_id</th>\n",
       "      <th>created_at</th>\n",
       "      <th>text</th>\n",
       "      <th>tweet_text</th>\n",
       "      <th>tweet_lang</th>\n",
       "      <th>lang_confidence</th>\n",
       "      <th>reply_emotion</th>\n",
       "      <th>emotion_confidence</th>\n",
       "      <th>reply_emotion_xlm_base_emotion</th>\n",
       "      <th>emotion_confidence_xlm_base_emotion</th>\n",
       "    </tr>\n",
       "  </thead>\n",
       "  <tbody>\n",
       "    <tr>\n",
       "      <th>3494624</th>\n",
       "      <td>1091717834860826624</td>\n",
       "      <td>1091717129995542528</td>\n",
       "      <td>2019-02-02 15:19:49+00:00</td>\n",
       "      <td>Go Trump!!</td>\n",
       "      <td>Energy Insider: Exploring the impact of winter...</td>\n",
       "      <td>en</td>\n",
       "      <td>0.779777</td>\n",
       "      <td>anger</td>\n",
       "      <td>0.962685</td>\n",
       "      <td>anger</td>\n",
       "      <td>0.962685</td>\n",
       "    </tr>\n",
       "    <tr>\n",
       "      <th>124683</th>\n",
       "      <td>1092776979567468546</td>\n",
       "      <td>1092776506106015746</td>\n",
       "      <td>2019-02-05 13:28:29+00:00</td>\n",
       "      <td>eat local and grow local the ecosystem is buil...</td>\n",
       "      <td>Given how what we eat (demand) determines what...</td>\n",
       "      <td>en</td>\n",
       "      <td>0.896970</td>\n",
       "      <td>optimism</td>\n",
       "      <td>0.983526</td>\n",
       "      <td>optimism</td>\n",
       "      <td>0.983526</td>\n",
       "    </tr>\n",
       "    <tr>\n",
       "      <th>3494625</th>\n",
       "      <td>1092835036037087232</td>\n",
       "      <td>1092784983998189568</td>\n",
       "      <td>2019-02-05 17:19:11+00:00</td>\n",
       "      <td>TUMP</td>\n",
       "      <td>New: @MediaLSE PhD candidate Rodrigo Muñoz-Gon...</td>\n",
       "      <td>en</td>\n",
       "      <td>0.890914</td>\n",
       "      <td>anger</td>\n",
       "      <td>0.352324</td>\n",
       "      <td>anger</td>\n",
       "      <td>0.352324</td>\n",
       "    </tr>\n",
       "    <tr>\n",
       "      <th>124685</th>\n",
       "      <td>1093139326496636928</td>\n",
       "      <td>1093132427810271233</td>\n",
       "      <td>2019-02-06 13:28:19+00:00</td>\n",
       "      <td>the sky is falling the sky in falling the corr...</td>\n",
       "      <td>See how Canada is addressing #ClimateChange th...</td>\n",
       "      <td>en</td>\n",
       "      <td>0.800252</td>\n",
       "      <td>optimism</td>\n",
       "      <td>0.838999</td>\n",
       "      <td>optimism</td>\n",
       "      <td>0.838999</td>\n",
       "    </tr>\n",
       "    <tr>\n",
       "      <th>124687</th>\n",
       "      <td>1094072089672175622</td>\n",
       "      <td>1094070997135822848</td>\n",
       "      <td>2019-02-09 03:14:47+00:00</td>\n",
       "      <td>you are beyond demented the utter presumptuous...</td>\n",
       "      <td>You can kiss your beer goodbye if climate chan...</td>\n",
       "      <td>en</td>\n",
       "      <td>0.872495</td>\n",
       "      <td>anger</td>\n",
       "      <td>0.985042</td>\n",
       "      <td>anger</td>\n",
       "      <td>0.985042</td>\n",
       "    </tr>\n",
       "  </tbody>\n",
       "</table>\n",
       "</div>"
      ],
      "text/plain": [
       "                          id      conversation_id                created_at  \\\n",
       "3494624  1091717834860826624  1091717129995542528 2019-02-02 15:19:49+00:00   \n",
       "124683   1092776979567468546  1092776506106015746 2019-02-05 13:28:29+00:00   \n",
       "3494625  1092835036037087232  1092784983998189568 2019-02-05 17:19:11+00:00   \n",
       "124685   1093139326496636928  1093132427810271233 2019-02-06 13:28:19+00:00   \n",
       "124687   1094072089672175622  1094070997135822848 2019-02-09 03:14:47+00:00   \n",
       "\n",
       "                                                      text  \\\n",
       "3494624                                         Go Trump!!   \n",
       "124683   eat local and grow local the ecosystem is buil...   \n",
       "3494625                                               TUMP   \n",
       "124685   the sky is falling the sky in falling the corr...   \n",
       "124687   you are beyond demented the utter presumptuous...   \n",
       "\n",
       "                                                tweet_text tweet_lang  \\\n",
       "3494624  Energy Insider: Exploring the impact of winter...         en   \n",
       "124683   Given how what we eat (demand) determines what...         en   \n",
       "3494625  New: @MediaLSE PhD candidate Rodrigo Muñoz-Gon...         en   \n",
       "124685   See how Canada is addressing #ClimateChange th...         en   \n",
       "124687   You can kiss your beer goodbye if climate chan...         en   \n",
       "\n",
       "         lang_confidence reply_emotion  emotion_confidence  \\\n",
       "3494624         0.779777         anger            0.962685   \n",
       "124683          0.896970      optimism            0.983526   \n",
       "3494625         0.890914         anger            0.352324   \n",
       "124685          0.800252      optimism            0.838999   \n",
       "124687          0.872495         anger            0.985042   \n",
       "\n",
       "        reply_emotion_xlm_base_emotion  emotion_confidence_xlm_base_emotion  \n",
       "3494624                          anger                             0.962685  \n",
       "124683                        optimism                             0.983526  \n",
       "3494625                          anger                             0.352324  \n",
       "124685                        optimism                             0.838999  \n",
       "124687                           anger                             0.985042  "
      ]
     },
     "execution_count": 71,
     "metadata": {},
     "output_type": "execute_result"
    }
   ],
   "source": [
    "tweet_replies_feb_2019_en.head()"
   ]
  },
  {
   "cell_type": "code",
   "execution_count": 72,
   "metadata": {},
   "outputs": [
    {
     "name": "stdout",
     "output_type": "stream",
     "text": [
      "['eat local and grow local the ecosystem is built like that and would continue to thrive']\n",
      "['optimism']\n"
     ]
    }
   ],
   "source": [
    "print(tweet_replies_feb_2019_en.query(\"conversation_id == 1092776506106015746\")['text'].to_list())\n",
    "print(tweet_replies_feb_2019_en.query(\"conversation_id == 1092776506106015746\")['reply_emotion_xlm_base_emotion'].to_list())"
   ]
  }
 ],
 "metadata": {
  "kernelspec": {
   "display_name": "Python 3",
   "language": "python",
   "name": "python3"
  },
  "language_info": {
   "codemirror_mode": {
    "name": "ipython",
    "version": 3
   },
   "file_extension": ".py",
   "mimetype": "text/x-python",
   "name": "python",
   "nbconvert_exporter": "python",
   "pygments_lexer": "ipython3",
   "version": "3.11.9"
  }
 },
 "nbformat": 4,
 "nbformat_minor": 0
}
